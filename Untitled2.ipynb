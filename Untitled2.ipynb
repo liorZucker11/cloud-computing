{
  "nbformat": 4,
  "nbformat_minor": 0,
  "metadata": {
    "colab": {
      "provenance": [],
      "authorship_tag": "ABX9TyOl8HtkO+LReYmezajQ+0jR",
      "include_colab_link": true
    },
    "kernelspec": {
      "name": "python3",
      "display_name": "Python 3"
    },
    "language_info": {
      "name": "python"
    },
    "widgets": {
      "application/vnd.jupyter.widget-state+json": {
        "4aa282f48ce34984a23e09151b1f0c41": {
          "model_module": "@jupyter-widgets/controls",
          "model_name": "DropdownModel",
          "model_module_version": "1.5.0",
          "state": {
            "_dom_classes": [],
            "_model_module": "@jupyter-widgets/controls",
            "_model_module_version": "1.5.0",
            "_model_name": "DropdownModel",
            "_options_labels": [
              "Yoni Azeraf",
              "Lior Zucker",
              "Mor Shmuel",
              "Dor Shabat",
              "Yuval Rozner"
            ],
            "_view_count": null,
            "_view_module": "@jupyter-widgets/controls",
            "_view_module_version": "1.5.0",
            "_view_name": "DropdownView",
            "description": "Student:",
            "description_tooltip": null,
            "disabled": false,
            "index": 4,
            "layout": "IPY_MODEL_e7ac2385adf44830b7ceac280f0e9602",
            "style": "IPY_MODEL_867f9f0f76ca4030bdc2183f6e2bd541"
          }
        },
        "e7ac2385adf44830b7ceac280f0e9602": {
          "model_module": "@jupyter-widgets/base",
          "model_name": "LayoutModel",
          "model_module_version": "1.2.0",
          "state": {
            "_model_module": "@jupyter-widgets/base",
            "_model_module_version": "1.2.0",
            "_model_name": "LayoutModel",
            "_view_count": null,
            "_view_module": "@jupyter-widgets/base",
            "_view_module_version": "1.2.0",
            "_view_name": "LayoutView",
            "align_content": null,
            "align_items": null,
            "align_self": null,
            "border": null,
            "bottom": null,
            "display": null,
            "flex": null,
            "flex_flow": null,
            "grid_area": null,
            "grid_auto_columns": null,
            "grid_auto_flow": null,
            "grid_auto_rows": null,
            "grid_column": null,
            "grid_gap": null,
            "grid_row": null,
            "grid_template_areas": null,
            "grid_template_columns": null,
            "grid_template_rows": null,
            "height": null,
            "justify_content": null,
            "justify_items": null,
            "left": null,
            "margin": null,
            "max_height": null,
            "max_width": null,
            "min_height": null,
            "min_width": null,
            "object_fit": null,
            "object_position": null,
            "order": null,
            "overflow": null,
            "overflow_x": null,
            "overflow_y": null,
            "padding": null,
            "right": null,
            "top": null,
            "visibility": null,
            "width": null
          }
        },
        "867f9f0f76ca4030bdc2183f6e2bd541": {
          "model_module": "@jupyter-widgets/controls",
          "model_name": "DescriptionStyleModel",
          "model_module_version": "1.5.0",
          "state": {
            "_model_module": "@jupyter-widgets/controls",
            "_model_module_version": "1.5.0",
            "_model_name": "DescriptionStyleModel",
            "_view_count": null,
            "_view_module": "@jupyter-widgets/base",
            "_view_module_version": "1.2.0",
            "_view_name": "StyleView",
            "description_width": ""
          }
        },
        "9bb4fa87c8034df296021796c4f34fd6": {
          "model_module": "@jupyter-widgets/controls",
          "model_name": "TextareaModel",
          "model_module_version": "1.5.0",
          "state": {
            "_dom_classes": [],
            "_model_module": "@jupyter-widgets/controls",
            "_model_module_version": "1.5.0",
            "_model_name": "TextareaModel",
            "_view_count": null,
            "_view_module": "@jupyter-widgets/controls",
            "_view_module_version": "1.5.0",
            "_view_name": "TextareaView",
            "continuous_update": true,
            "description": "",
            "description_tooltip": null,
            "disabled": true,
            "layout": "IPY_MODEL_3fc4702a2e52441985d383eeafa509b3",
            "placeholder": "​",
            "rows": null,
            "style": "IPY_MODEL_996094f81ddf4abfa05e210823ec4e91",
            "value": "Name: Yuval Rozner\nEmail: Yuval.Rozner@e.braude.ac.il\nCourses: cloud,physics,web,AI,Data_Mining\nLink: https://www.n12.co.il/\n"
          }
        },
        "3fc4702a2e52441985d383eeafa509b3": {
          "model_module": "@jupyter-widgets/base",
          "model_name": "LayoutModel",
          "model_module_version": "1.2.0",
          "state": {
            "_model_module": "@jupyter-widgets/base",
            "_model_module_version": "1.2.0",
            "_model_name": "LayoutModel",
            "_view_count": null,
            "_view_module": "@jupyter-widgets/base",
            "_view_module_version": "1.2.0",
            "_view_name": "LayoutView",
            "align_content": null,
            "align_items": null,
            "align_self": null,
            "border": null,
            "bottom": null,
            "display": null,
            "flex": null,
            "flex_flow": null,
            "grid_area": null,
            "grid_auto_columns": null,
            "grid_auto_flow": null,
            "grid_auto_rows": null,
            "grid_column": null,
            "grid_gap": null,
            "grid_row": null,
            "grid_template_areas": null,
            "grid_template_columns": null,
            "grid_template_rows": null,
            "height": "70px",
            "justify_content": null,
            "justify_items": null,
            "left": null,
            "margin": null,
            "max_height": null,
            "max_width": null,
            "min_height": null,
            "min_width": null,
            "object_fit": null,
            "object_position": null,
            "order": null,
            "overflow": null,
            "overflow_x": null,
            "overflow_y": null,
            "padding": null,
            "right": null,
            "top": null,
            "visibility": null,
            "width": "400px"
          }
        },
        "996094f81ddf4abfa05e210823ec4e91": {
          "model_module": "@jupyter-widgets/controls",
          "model_name": "DescriptionStyleModel",
          "model_module_version": "1.5.0",
          "state": {
            "_model_module": "@jupyter-widgets/controls",
            "_model_module_version": "1.5.0",
            "_model_name": "DescriptionStyleModel",
            "_view_count": null,
            "_view_module": "@jupyter-widgets/base",
            "_view_module_version": "1.2.0",
            "_view_name": "StyleView",
            "description_width": ""
          }
        }
      }
    }
  },
  "cells": [
    {
      "cell_type": "markdown",
      "metadata": {
        "id": "view-in-github",
        "colab_type": "text"
      },
      "source": [
        "<a href=\"https://colab.research.google.com/github/liorZucker11/cloud-computing/blob/main/Untitled2.ipynb\" target=\"_parent\"><img src=\"https://colab.research.google.com/assets/colab-badge.svg\" alt=\"Open In Colab\"/></a>"
      ]
    },
    {
      "cell_type": "code",
      "source": [
        "!pip install numpy"
      ],
      "metadata": {
        "colab": {
          "base_uri": "https://localhost:8080/"
        },
        "id": "AsPkBzTE7B3P",
        "outputId": "1001042f-7e00-4cbd-b494-159ca81c79c0"
      },
      "execution_count": null,
      "outputs": [
        {
          "output_type": "stream",
          "name": "stdout",
          "text": [
            "Requirement already satisfied: numpy in /usr/local/lib/python3.10/dist-packages (1.23.5)\n"
          ]
        }
      ]
    },
    {
      "cell_type": "code",
      "source": [
        "from google.colab import drive\n",
        "drive.mount('/content/drive/')"
      ],
      "metadata": {
        "colab": {
          "base_uri": "https://localhost:8080/"
        },
        "id": "iBARCyv1zk_T",
        "outputId": "8517cef1-2ba0-4468-978a-e6cae20b8968"
      },
      "execution_count": null,
      "outputs": [
        {
          "output_type": "stream",
          "name": "stdout",
          "text": [
            "Drive already mounted at /content/drive/; to attempt to forcibly remount, call drive.mount(\"/content/drive/\", force_remount=True).\n"
          ]
        }
      ]
    },
    {
      "cell_type": "code",
      "execution_count": null,
      "metadata": {
        "id": "LvDUJByLzh1o"
      },
      "outputs": [],
      "source": [
        "import os\n",
        "drive_path = '/content/drive/MyDrive/'\n",
        "os.chdir(drive_path)"
      ]
    },
    {
      "cell_type": "code",
      "source": [
        "with open(\"students.txt\",\"r\") as file:\n",
        "  content=file.read()\n",
        "  print(content)"
      ],
      "metadata": {
        "colab": {
          "base_uri": "https://localhost:8080/"
        },
        "id": "1CCfE6_8zzYC",
        "outputId": "aea4ace3-58c5-418c-b93d-e40207b46b0a"
      },
      "execution_count": null,
      "outputs": [
        {
          "output_type": "stream",
          "name": "stdout",
          "text": [
            "Yoni Azeraf Yoni.Azeraf@e.braude.ac.il cloud,physics,web,AI,Data_Mining https://www.google.com/\n",
            "Lior Zucker Lior.Zucker@e.braude.ac.il cloud,physics,web,AI,Data_Mining https://www.youtube.com/\n",
            "Mor Shmuel Mor.Shmuel@e.braude.ac.il cloud,physics,web,AI,Data_Mining https://translate.google.com/\n",
            "Dor Shabat Dor.Shabat@e.braude.ac.il cloud,physics,web,AI,Data_Mining https://open.spotify.com/\n",
            "Yuval Rozner Yuval.Rozner@e.braude.ac.il cloud,physics,web,AI,Data_Mining https://www.n12.co.il/ \n"
          ]
        }
      ]
    },
    {
      "cell_type": "code",
      "source": [
        "lines=content.split(\"\\n\")\n",
        "json_data=[]\n",
        "names=[]\n",
        "for i in range(0,len(lines)):\n",
        "  splitLine=lines[i].split(\" \")\n",
        "  name=splitLine[0]+\" \"+splitLine[1]\n",
        "  names.append(name)\n",
        "  email=splitLine[2]\n",
        "  courses=splitLine[3]\n",
        "  link=splitLine[4]\n",
        "  entry=[name,email,courses,link]\n",
        "  json_data.append(entry)\n"
      ],
      "metadata": {
        "id": "ufC5z5VXpPoj"
      },
      "execution_count": null,
      "outputs": []
    },
    {
      "cell_type": "code",
      "source": [
        "def on_dropdown_click(change):\n",
        "  displayData=\"\"\n",
        "  for data in json_data :\n",
        "    if(data[0] == change['new']):\n",
        "      displayData=\"Name:\"+\" \"\n",
        "      displayData=displayData+data[0]+\"\\n\"\n",
        "      displayData=displayData+\"Email:\"+\" \"\n",
        "      displayData=displayData+data[1]+\"\\n\"\n",
        "      displayData=displayData+\"Courses:\"+\" \"\n",
        "      displayData=displayData+data[2]+\"\\n\"\n",
        "      displayData=displayData+\"Link:\"+\" \"\n",
        "      displayData=displayData+data[3]+\"\\n\"\n",
        "  textBoxData.value=displayData"
      ],
      "metadata": {
        "id": "1zz0nugFwkZg"
      },
      "execution_count": null,
      "outputs": []
    },
    {
      "cell_type": "code",
      "source": [
        "import ipywidgets as widgets\n",
        "# Allow input by including an empty string in the options\n",
        "dropdown = widgets.Dropdown(\n",
        "    options=names,\n",
        "    value=names[0],  # Default value\n",
        "    description='Student:',\n",
        "    disabled=False\n",
        ")\n",
        "display(dropdown)\n",
        "dropdown.observe(on_dropdown_click, names='value')\n"
      ],
      "metadata": {
        "id": "5MJTAkS03tzg",
        "colab": {
          "base_uri": "https://localhost:8080/",
          "height": 49,
          "referenced_widgets": [
            "4aa282f48ce34984a23e09151b1f0c41",
            "e7ac2385adf44830b7ceac280f0e9602",
            "867f9f0f76ca4030bdc2183f6e2bd541"
          ]
        },
        "outputId": "6124818c-6e94-473c-95ec-1cdb85f413a8"
      },
      "execution_count": null,
      "outputs": [
        {
          "output_type": "display_data",
          "data": {
            "text/plain": [
              "Dropdown(description='Student:', options=('Yoni Azeraf', 'Lior Zucker', 'Mor Shmuel', 'Dor Shabat', 'Yuval Roz…"
            ],
            "application/vnd.jupyter.widget-view+json": {
              "version_major": 2,
              "version_minor": 0,
              "model_id": "4aa282f48ce34984a23e09151b1f0c41"
            }
          },
          "metadata": {}
        }
      ]
    },
    {
      "cell_type": "code",
      "source": [
        "textBoxData=widgets.Textarea(value=\"\", layout={'width': '400px', 'height': '70px'},disabled=True)\n",
        "display(textBoxData)"
      ],
      "metadata": {
        "colab": {
          "base_uri": "https://localhost:8080/",
          "height": 91,
          "referenced_widgets": [
            "9bb4fa87c8034df296021796c4f34fd6",
            "3fc4702a2e52441985d383eeafa509b3",
            "996094f81ddf4abfa05e210823ec4e91"
          ]
        },
        "id": "9pOdA_nDyOE3",
        "outputId": "78da72de-8375-45af-d189-cdf87fca6e8d"
      },
      "execution_count": null,
      "outputs": [
        {
          "output_type": "display_data",
          "data": {
            "text/plain": [
              "Textarea(value='', disabled=True, layout=Layout(height='70px', width='400px'))"
            ],
            "application/vnd.jupyter.widget-view+json": {
              "version_major": 2,
              "version_minor": 0,
              "model_id": "9bb4fa87c8034df296021796c4f34fd6"
            }
          },
          "metadata": {}
        }
      ]
    }
  ]
}