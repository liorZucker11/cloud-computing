{
  "nbformat": 4,
  "nbformat_minor": 0,
  "metadata": {
    "colab": {
      "provenance": [],
      "include_colab_link": true
    },
    "kernelspec": {
      "name": "python3",
      "display_name": "Python 3"
    },
    "language_info": {
      "name": "python"
    },
    "widgets": {
      "application/vnd.jupyter.widget-state+json": {
        "874c5fa3996e4eb49656e3b652722e95": {
          "model_module": "@jupyter-widgets/controls",
          "model_name": "DropdownModel",
          "model_module_version": "1.5.0",
          "state": {
            "_dom_classes": [],
            "_model_module": "@jupyter-widgets/controls",
            "_model_module_version": "1.5.0",
            "_model_name": "DropdownModel",
            "_options_labels": [
              "Choose...",
              "Yoni Azeraf",
              "Lior Zucker",
              "Mor Shmuel",
              "Dor Shabat",
              "Yuval Rozner"
            ],
            "_view_count": null,
            "_view_module": "@jupyter-widgets/controls",
            "_view_module_version": "1.5.0",
            "_view_name": "DropdownView",
            "description": "Student:",
            "description_tooltip": null,
            "disabled": false,
            "index": 4,
            "layout": "IPY_MODEL_4972a23b3c6f46c6b909f6e02626f318",
            "style": "IPY_MODEL_1eba1a73ae59481b9ebc7e25c9250b04"
          }
        },
        "4972a23b3c6f46c6b909f6e02626f318": {
          "model_module": "@jupyter-widgets/base",
          "model_name": "LayoutModel",
          "model_module_version": "1.2.0",
          "state": {
            "_model_module": "@jupyter-widgets/base",
            "_model_module_version": "1.2.0",
            "_model_name": "LayoutModel",
            "_view_count": null,
            "_view_module": "@jupyter-widgets/base",
            "_view_module_version": "1.2.0",
            "_view_name": "LayoutView",
            "align_content": null,
            "align_items": null,
            "align_self": null,
            "border": null,
            "bottom": null,
            "display": null,
            "flex": null,
            "flex_flow": null,
            "grid_area": null,
            "grid_auto_columns": null,
            "grid_auto_flow": null,
            "grid_auto_rows": null,
            "grid_column": null,
            "grid_gap": null,
            "grid_row": null,
            "grid_template_areas": null,
            "grid_template_columns": null,
            "grid_template_rows": null,
            "height": null,
            "justify_content": null,
            "justify_items": null,
            "left": null,
            "margin": null,
            "max_height": null,
            "max_width": null,
            "min_height": null,
            "min_width": null,
            "object_fit": null,
            "object_position": null,
            "order": null,
            "overflow": null,
            "overflow_x": null,
            "overflow_y": null,
            "padding": null,
            "right": null,
            "top": null,
            "visibility": null,
            "width": null
          }
        },
        "1eba1a73ae59481b9ebc7e25c9250b04": {
          "model_module": "@jupyter-widgets/controls",
          "model_name": "DescriptionStyleModel",
          "model_module_version": "1.5.0",
          "state": {
            "_model_module": "@jupyter-widgets/controls",
            "_model_module_version": "1.5.0",
            "_model_name": "DescriptionStyleModel",
            "_view_count": null,
            "_view_module": "@jupyter-widgets/base",
            "_view_module_version": "1.2.0",
            "_view_name": "StyleView",
            "description_width": ""
          }
        },
        "e29a71e7786042aabf888fc265115917": {
          "model_module": "@jupyter-widgets/controls",
          "model_name": "TextareaModel",
          "model_module_version": "1.5.0",
          "state": {
            "_dom_classes": [],
            "_model_module": "@jupyter-widgets/controls",
            "_model_module_version": "1.5.0",
            "_model_name": "TextareaModel",
            "_view_count": null,
            "_view_module": "@jupyter-widgets/controls",
            "_view_module_version": "1.5.0",
            "_view_name": "TextareaView",
            "continuous_update": true,
            "description": "",
            "description_tooltip": null,
            "disabled": true,
            "layout": "IPY_MODEL_7cf6a714b1b5416ca238a99370938b57",
            "placeholder": "​",
            "rows": null,
            "style": "IPY_MODEL_15a3f8c6770b4e52b6dfb2bedc3af137",
            "value": ""
          }
        },
        "7cf6a714b1b5416ca238a99370938b57": {
          "model_module": "@jupyter-widgets/base",
          "model_name": "LayoutModel",
          "model_module_version": "1.2.0",
          "state": {
            "_model_module": "@jupyter-widgets/base",
            "_model_module_version": "1.2.0",
            "_model_name": "LayoutModel",
            "_view_count": null,
            "_view_module": "@jupyter-widgets/base",
            "_view_module_version": "1.2.0",
            "_view_name": "LayoutView",
            "align_content": null,
            "align_items": null,
            "align_self": null,
            "border": null,
            "bottom": null,
            "display": null,
            "flex": null,
            "flex_flow": null,
            "grid_area": null,
            "grid_auto_columns": null,
            "grid_auto_flow": null,
            "grid_auto_rows": null,
            "grid_column": null,
            "grid_gap": null,
            "grid_row": null,
            "grid_template_areas": null,
            "grid_template_columns": null,
            "grid_template_rows": null,
            "height": "70px",
            "justify_content": null,
            "justify_items": null,
            "left": null,
            "margin": null,
            "max_height": null,
            "max_width": null,
            "min_height": null,
            "min_width": null,
            "object_fit": null,
            "object_position": null,
            "order": null,
            "overflow": null,
            "overflow_x": null,
            "overflow_y": null,
            "padding": null,
            "right": null,
            "top": null,
            "visibility": null,
            "width": "400px"
          }
        },
        "15a3f8c6770b4e52b6dfb2bedc3af137": {
          "model_module": "@jupyter-widgets/controls",
          "model_name": "DescriptionStyleModel",
          "model_module_version": "1.5.0",
          "state": {
            "_model_module": "@jupyter-widgets/controls",
            "_model_module_version": "1.5.0",
            "_model_name": "DescriptionStyleModel",
            "_view_count": null,
            "_view_module": "@jupyter-widgets/base",
            "_view_module_version": "1.2.0",
            "_view_name": "StyleView",
            "description_width": ""
          }
        }
      }
    }
  },
  "cells": [
    {
      "cell_type": "markdown",
      "metadata": {
        "id": "view-in-github",
        "colab_type": "text"
      },
      "source": [
        "<a href=\"https://colab.research.google.com/github/liorZucker11/cloud-computing/blob/main/Untitled2.ipynb\" target=\"_parent\"><img src=\"https://colab.research.google.com/assets/colab-badge.svg\" alt=\"Open In Colab\"/></a>"
      ]
    },
    {
      "cell_type": "code",
      "source": [
        "!pip install numpy"
      ],
      "metadata": {
        "colab": {
          "base_uri": "https://localhost:8080/"
        },
        "id": "AsPkBzTE7B3P",
        "outputId": "b3cd668f-6a03-4213-bedd-599725be34e3"
      },
      "execution_count": 1,
      "outputs": [
        {
          "output_type": "stream",
          "name": "stdout",
          "text": [
            "Requirement already satisfied: numpy in /usr/local/lib/python3.10/dist-packages (1.23.5)\n"
          ]
        }
      ]
    },
    {
      "cell_type": "code",
      "source": [
        "from google.colab import drive\n",
        "drive.mount('/content/drive/')"
      ],
      "metadata": {
        "colab": {
          "base_uri": "https://localhost:8080/"
        },
        "id": "iBARCyv1zk_T",
        "outputId": "1dd400ae-faba-449a-c678-370a1fd709fe"
      },
      "execution_count": 2,
      "outputs": [
        {
          "output_type": "stream",
          "name": "stdout",
          "text": [
            "Mounted at /content/drive/\n"
          ]
        }
      ]
    },
    {
      "cell_type": "code",
      "execution_count": 3,
      "metadata": {
        "id": "LvDUJByLzh1o"
      },
      "outputs": [],
      "source": [
        "import os\n",
        "drive_path = '/content/drive/MyDrive/'\n",
        "os.chdir(drive_path)"
      ]
    },
    {
      "cell_type": "code",
      "source": [
        "with open(\"students.txt\",\"r\") as file:\n",
        "  content=file.read()"
      ],
      "metadata": {
        "id": "1CCfE6_8zzYC"
      },
      "execution_count": 4,
      "outputs": []
    },
    {
      "cell_type": "code",
      "source": [
        "lines=content.split(\"\\n\")\n",
        "json_data=[]\n",
        "names=[\"Choose...\"]\n",
        "for i in range(0,len(lines)):\n",
        "  splitLine=lines[i].split(\" \")\n",
        "  name=splitLine[0]+\" \"+splitLine[1]\n",
        "  names.append(name)\n",
        "  email=splitLine[2]\n",
        "  courses=splitLine[3]\n",
        "  link=splitLine[4]\n",
        "  entry=[name,email,courses,link]\n",
        "  json_data.append(entry)\n"
      ],
      "metadata": {
        "id": "ufC5z5VXpPoj"
      },
      "execution_count": 5,
      "outputs": []
    },
    {
      "cell_type": "code",
      "source": [
        "def on_dropdown_click(change):\n",
        "  displayData=\"\"\n",
        "  for data in json_data :\n",
        "    if(data[0] == change['new']):\n",
        "      displayData=\"Name:\"+\" \"\n",
        "      displayData=displayData+data[0]+\"\\n\"\n",
        "      displayData=displayData+\"Email:\"+\" \"\n",
        "      displayData=displayData+data[1]+\"\\n\"\n",
        "      displayData=displayData+\"Courses:\"+\" \"\n",
        "      displayData=displayData+data[2]+\"\\n\"\n",
        "      displayData=displayData+\"Link:\"+\" \"+\"<a href=\"\n",
        "      displayData=displayData+data[3]+\"></a>\"+\"\\n\"\n",
        "  textBoxData.value=displayData"
      ],
      "metadata": {
        "id": "1zz0nugFwkZg"
      },
      "execution_count": 6,
      "outputs": []
    },
    {
      "cell_type": "code",
      "source": [
        "import ipywidgets as widgets\n",
        "# Allow input by including an empty string in the options\n",
        "dropdown = widgets.Dropdown(\n",
        "    options=names,\n",
        "    value=names[0],  # Default value\n",
        "    description='Student:',\n",
        "    disabled=False\n",
        ")\n",
        "display(dropdown)\n",
        "dropdown.observe(on_dropdown_click, names='value')\n"
      ],
      "metadata": {
        "id": "5MJTAkS03tzg",
        "colab": {
          "base_uri": "https://localhost:8080/",
          "height": 49,
          "referenced_widgets": [
            "874c5fa3996e4eb49656e3b652722e95",
            "4972a23b3c6f46c6b909f6e02626f318",
            "1eba1a73ae59481b9ebc7e25c9250b04"
          ]
        },
        "outputId": "3d790519-1574-4617-f5ef-ca5d256a8c8c"
      },
      "execution_count": 7,
      "outputs": [
        {
          "output_type": "display_data",
          "data": {
            "text/plain": [
              "Dropdown(description='Student:', options=('Choose...', 'Yoni Azeraf', 'Lior Zucker', 'Mor Shmuel', 'Dor Shabat…"
            ],
            "application/vnd.jupyter.widget-view+json": {
              "version_major": 2,
              "version_minor": 0,
              "model_id": "874c5fa3996e4eb49656e3b652722e95"
            }
          },
          "metadata": {}
        }
      ]
    },
    {
      "cell_type": "code",
      "source": [
        "textBoxData=widgets.Textarea(id=\"textBoxData\",value=\"\", layout={'width': '400px', 'height': '70px'},disabled=True)\n",
        "display(textBoxData)\n",
        "print(\"lior\")"
      ],
      "metadata": {
        "id": "9pOdA_nDyOE3",
        "colab": {
          "base_uri": "https://localhost:8080/",
          "height": 108,
          "referenced_widgets": [
            "e29a71e7786042aabf888fc265115917",
            "7cf6a714b1b5416ca238a99370938b57",
            "15a3f8c6770b4e52b6dfb2bedc3af137"
          ]
        },
        "outputId": "4bd0fe99-8c74-448e-c6cb-8611fa664dc7"
      },
      "execution_count": 9,
      "outputs": [
        {
          "output_type": "display_data",
          "data": {
            "text/plain": [
              "Textarea(value='', disabled=True, layout=Layout(height='70px', width='400px'))"
            ],
            "application/vnd.jupyter.widget-view+json": {
              "version_major": 2,
              "version_minor": 0,
              "model_id": "e29a71e7786042aabf888fc265115917"
            }
          },
          "metadata": {}
        },
        {
          "output_type": "stream",
          "name": "stdout",
          "text": [
            "lior\n"
          ]
        }
      ]
    }
  ]
}