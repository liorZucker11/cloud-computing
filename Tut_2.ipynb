{
  "nbformat": 4,
  "nbformat_minor": 0,
  "metadata": {
    "colab": {
      "provenance": [],
      "authorship_tag": "ABX9TyON5cFZnhwR3LYucqVDrs0n",
      "include_colab_link": true
    },
    "kernelspec": {
      "name": "python3",
      "display_name": "Python 3"
    },
    "language_info": {
      "name": "python"
    },
    "widgets": {
      "application/vnd.jupyter.widget-state+json": {
        "4ea5518ad0ae47a08c6670c8b190f711": {
          "model_module": "@jupyter-widgets/controls",
          "model_name": "DropdownModel",
          "model_module_version": "1.5.0",
          "state": {
            "_dom_classes": [],
            "_model_module": "@jupyter-widgets/controls",
            "_model_module_version": "1.5.0",
            "_model_name": "DropdownModel",
            "_options_labels": [
              "Yoni Azeraf",
              "Lior Zucker",
              "Mor Shmuel",
              "Dor Shabat",
              "Yuval Rozner"
            ],
            "_view_count": null,
            "_view_module": "@jupyter-widgets/controls",
            "_view_module_version": "1.5.0",
            "_view_name": "DropdownView",
            "description": "",
            "description_tooltip": null,
            "disabled": false,
            "index": 1,
            "layout": "IPY_MODEL_2203d18b6f2e48ce8561efb546eff0c2",
            "style": "IPY_MODEL_fe2ddae0a22a408faef9a2440726f682"
          }
        },
        "2203d18b6f2e48ce8561efb546eff0c2": {
          "model_module": "@jupyter-widgets/base",
          "model_name": "LayoutModel",
          "model_module_version": "1.2.0",
          "state": {
            "_model_module": "@jupyter-widgets/base",
            "_model_module_version": "1.2.0",
            "_model_name": "LayoutModel",
            "_view_count": null,
            "_view_module": "@jupyter-widgets/base",
            "_view_module_version": "1.2.0",
            "_view_name": "LayoutView",
            "align_content": null,
            "align_items": null,
            "align_self": null,
            "border": null,
            "bottom": null,
            "display": null,
            "flex": null,
            "flex_flow": null,
            "grid_area": null,
            "grid_auto_columns": null,
            "grid_auto_flow": null,
            "grid_auto_rows": null,
            "grid_column": null,
            "grid_gap": null,
            "grid_row": null,
            "grid_template_areas": null,
            "grid_template_columns": null,
            "grid_template_rows": null,
            "height": null,
            "justify_content": null,
            "justify_items": null,
            "left": null,
            "margin": null,
            "max_height": null,
            "max_width": null,
            "min_height": null,
            "min_width": null,
            "object_fit": null,
            "object_position": null,
            "order": null,
            "overflow": null,
            "overflow_x": null,
            "overflow_y": null,
            "padding": null,
            "right": null,
            "top": null,
            "visibility": null,
            "width": null
          }
        },
        "fe2ddae0a22a408faef9a2440726f682": {
          "model_module": "@jupyter-widgets/controls",
          "model_name": "DescriptionStyleModel",
          "model_module_version": "1.5.0",
          "state": {
            "_model_module": "@jupyter-widgets/controls",
            "_model_module_version": "1.5.0",
            "_model_name": "DescriptionStyleModel",
            "_view_count": null,
            "_view_module": "@jupyter-widgets/base",
            "_view_module_version": "1.2.0",
            "_view_name": "StyleView",
            "description_width": ""
          }
        },
        "aa33d87d3d274126882bcd4fa6c60716": {
          "model_module": "@jupyter-widgets/controls",
          "model_name": "HTMLModel",
          "model_module_version": "1.5.0",
          "state": {
            "_dom_classes": [],
            "_model_module": "@jupyter-widgets/controls",
            "_model_module_version": "1.5.0",
            "_model_name": "HTMLModel",
            "_view_count": null,
            "_view_module": "@jupyter-widgets/controls",
            "_view_module_version": "1.5.0",
            "_view_name": "HTMLView",
            "description": "",
            "description_tooltip": null,
            "layout": "IPY_MODEL_aff559886bc344c59f68c5e74c8e5b71",
            "placeholder": "​",
            "style": "IPY_MODEL_d8ab8c23fb374fa683494bfaa415b81d",
            "value": "<b>Name:</b> Lior Zucker<br><b>Email:</b> Lior.Zucker@e.braude.ac.il<br><b>Courses:</b> ['cloud', 'physics', 'web', 'AI', 'Data_Mining']<br><b>Link:</b> <a href='https://www.youtube.com/' target='_blank'>https://www.youtube.com/</a><br>"
          }
        },
        "aff559886bc344c59f68c5e74c8e5b71": {
          "model_module": "@jupyter-widgets/base",
          "model_name": "LayoutModel",
          "model_module_version": "1.2.0",
          "state": {
            "_model_module": "@jupyter-widgets/base",
            "_model_module_version": "1.2.0",
            "_model_name": "LayoutModel",
            "_view_count": null,
            "_view_module": "@jupyter-widgets/base",
            "_view_module_version": "1.2.0",
            "_view_name": "LayoutView",
            "align_content": null,
            "align_items": null,
            "align_self": null,
            "border": null,
            "bottom": null,
            "display": null,
            "flex": null,
            "flex_flow": null,
            "grid_area": null,
            "grid_auto_columns": null,
            "grid_auto_flow": null,
            "grid_auto_rows": null,
            "grid_column": null,
            "grid_gap": null,
            "grid_row": null,
            "grid_template_areas": null,
            "grid_template_columns": null,
            "grid_template_rows": null,
            "height": "120px",
            "justify_content": null,
            "justify_items": null,
            "left": null,
            "margin": null,
            "max_height": null,
            "max_width": null,
            "min_height": null,
            "min_width": null,
            "object_fit": null,
            "object_position": null,
            "order": null,
            "overflow": null,
            "overflow_x": null,
            "overflow_y": null,
            "padding": null,
            "right": null,
            "top": null,
            "visibility": null,
            "width": "400px"
          }
        },
        "d8ab8c23fb374fa683494bfaa415b81d": {
          "model_module": "@jupyter-widgets/controls",
          "model_name": "DescriptionStyleModel",
          "model_module_version": "1.5.0",
          "state": {
            "_model_module": "@jupyter-widgets/controls",
            "_model_module_version": "1.5.0",
            "_model_name": "DescriptionStyleModel",
            "_view_count": null,
            "_view_module": "@jupyter-widgets/base",
            "_view_module_version": "1.2.0",
            "_view_name": "StyleView",
            "description_width": ""
          }
        },
        "4e76485c73d94153b4748ec9fa13bab3": {
          "model_module": "@jupyter-widgets/controls",
          "model_name": "TextModel",
          "model_module_version": "1.5.0",
          "state": {
            "_dom_classes": [],
            "_model_module": "@jupyter-widgets/controls",
            "_model_module_version": "1.5.0",
            "_model_name": "TextModel",
            "_view_count": null,
            "_view_module": "@jupyter-widgets/controls",
            "_view_module_version": "1.5.0",
            "_view_name": "TextView",
            "continuous_update": true,
            "description": "",
            "description_tooltip": null,
            "disabled": false,
            "layout": "IPY_MODEL_cea6a7dbf58e4d55bb7834cda00960cd",
            "placeholder": "​",
            "style": "IPY_MODEL_8c63978ddb164401acd4c313d25c240b",
            "value": "rf"
          }
        },
        "cea6a7dbf58e4d55bb7834cda00960cd": {
          "model_module": "@jupyter-widgets/base",
          "model_name": "LayoutModel",
          "model_module_version": "1.2.0",
          "state": {
            "_model_module": "@jupyter-widgets/base",
            "_model_module_version": "1.2.0",
            "_model_name": "LayoutModel",
            "_view_count": null,
            "_view_module": "@jupyter-widgets/base",
            "_view_module_version": "1.2.0",
            "_view_name": "LayoutView",
            "align_content": null,
            "align_items": null,
            "align_self": null,
            "border": null,
            "bottom": null,
            "display": null,
            "flex": null,
            "flex_flow": null,
            "grid_area": null,
            "grid_auto_columns": null,
            "grid_auto_flow": null,
            "grid_auto_rows": null,
            "grid_column": null,
            "grid_gap": null,
            "grid_row": null,
            "grid_template_areas": null,
            "grid_template_columns": null,
            "grid_template_rows": null,
            "height": null,
            "justify_content": null,
            "justify_items": null,
            "left": null,
            "margin": null,
            "max_height": null,
            "max_width": null,
            "min_height": null,
            "min_width": null,
            "object_fit": null,
            "object_position": null,
            "order": null,
            "overflow": null,
            "overflow_x": null,
            "overflow_y": null,
            "padding": null,
            "right": null,
            "top": null,
            "visibility": null,
            "width": null
          }
        },
        "8c63978ddb164401acd4c313d25c240b": {
          "model_module": "@jupyter-widgets/controls",
          "model_name": "DescriptionStyleModel",
          "model_module_version": "1.5.0",
          "state": {
            "_model_module": "@jupyter-widgets/controls",
            "_model_module_version": "1.5.0",
            "_model_name": "DescriptionStyleModel",
            "_view_count": null,
            "_view_module": "@jupyter-widgets/base",
            "_view_module_version": "1.2.0",
            "_view_name": "StyleView",
            "description_width": ""
          }
        },
        "f4c176dc216c40a0a0473e6edc83e967": {
          "model_module": "@jupyter-widgets/controls",
          "model_name": "ButtonModel",
          "model_module_version": "1.5.0",
          "state": {
            "_dom_classes": [],
            "_model_module": "@jupyter-widgets/controls",
            "_model_module_version": "1.5.0",
            "_model_name": "ButtonModel",
            "_view_count": null,
            "_view_module": "@jupyter-widgets/controls",
            "_view_module_version": "1.5.0",
            "_view_name": "ButtonView",
            "button_style": "",
            "description": "Update",
            "disabled": false,
            "icon": "",
            "layout": "IPY_MODEL_ba79dbfb43a34037be042c083cdc5560",
            "style": "IPY_MODEL_2f9bb7733dd449978f14375dac900db7",
            "tooltip": ""
          }
        },
        "ba79dbfb43a34037be042c083cdc5560": {
          "model_module": "@jupyter-widgets/base",
          "model_name": "LayoutModel",
          "model_module_version": "1.2.0",
          "state": {
            "_model_module": "@jupyter-widgets/base",
            "_model_module_version": "1.2.0",
            "_model_name": "LayoutModel",
            "_view_count": null,
            "_view_module": "@jupyter-widgets/base",
            "_view_module_version": "1.2.0",
            "_view_name": "LayoutView",
            "align_content": null,
            "align_items": null,
            "align_self": null,
            "border": null,
            "bottom": null,
            "display": null,
            "flex": null,
            "flex_flow": null,
            "grid_area": null,
            "grid_auto_columns": null,
            "grid_auto_flow": null,
            "grid_auto_rows": null,
            "grid_column": null,
            "grid_gap": null,
            "grid_row": null,
            "grid_template_areas": null,
            "grid_template_columns": null,
            "grid_template_rows": null,
            "height": null,
            "justify_content": null,
            "justify_items": null,
            "left": null,
            "margin": null,
            "max_height": null,
            "max_width": null,
            "min_height": null,
            "min_width": null,
            "object_fit": null,
            "object_position": null,
            "order": null,
            "overflow": null,
            "overflow_x": null,
            "overflow_y": null,
            "padding": null,
            "right": null,
            "top": null,
            "visibility": null,
            "width": null
          }
        },
        "2f9bb7733dd449978f14375dac900db7": {
          "model_module": "@jupyter-widgets/controls",
          "model_name": "ButtonStyleModel",
          "model_module_version": "1.5.0",
          "state": {
            "_model_module": "@jupyter-widgets/controls",
            "_model_module_version": "1.5.0",
            "_model_name": "ButtonStyleModel",
            "_view_count": null,
            "_view_module": "@jupyter-widgets/base",
            "_view_module_version": "1.2.0",
            "_view_name": "StyleView",
            "button_color": "lightgreen",
            "font_weight": "bold"
          }
        }
      }
    }
  },
  "cells": [
    {
      "cell_type": "markdown",
      "metadata": {
        "id": "view-in-github",
        "colab_type": "text"
      },
      "source": [
        "<a href=\"https://colab.research.google.com/github/liorZucker11/cloud-computing/blob/main/Tut_2.ipynb\" target=\"_parent\"><img src=\"https://colab.research.google.com/assets/colab-badge.svg\" alt=\"Open In Colab\"/></a>"
      ]
    },
    {
      "cell_type": "code",
      "source": [
        "from google.colab import drive\n",
        "drive.mount('/content/drive/')"
      ],
      "metadata": {
        "id": "oSi7dXYBcD7g",
        "outputId": "f5c32e7d-1c01-4723-eba3-f797f4381011",
        "colab": {
          "base_uri": "https://localhost:8080/"
        }
      },
      "execution_count": 2,
      "outputs": [
        {
          "output_type": "stream",
          "name": "stdout",
          "text": [
            "Mounted at /content/drive/\n"
          ]
        }
      ]
    },
    {
      "cell_type": "code",
      "source": [
        "import os , json ,ipywidgets as widgets\n",
        "drive_path = '/content/drive/MyDrive/cloudTut/'\n",
        "os.chdir(drive_path)"
      ],
      "metadata": {
        "id": "6ffvfXs9cGds"
      },
      "execution_count": 18,
      "outputs": []
    },
    {
      "cell_type": "code",
      "source": [
        "with open(\"students.json\",\"r\") as file:\n",
        "    content=json.load(file)"
      ],
      "metadata": {
        "id": "AgqRhBPLcL9v",
        "outputId": "65d7001f-7d7c-48d4-93d3-8e1dce0a3e48",
        "colab": {
          "base_uri": "https://localhost:8080/"
        }
      },
      "execution_count": 17,
      "outputs": [
        {
          "metadata": {
            "tags": null
          },
          "name": "stdout",
          "output_type": "stream",
          "text": [
            "{'students': [{'name': 'Yoni Azeraf', 'email': 'Yoni.Azeraf@e.braude.ac.il', 'courses': ['cloud', 'physics', 'web', 'AI', 'Data_Mining'], 'link': 'https://www.google.com/'}, {'name': 'Lior Zucker', 'email': 'Lior.Zucker@e.braude.ac.il', 'courses': ['cloud', 'physics', 'web', 'AI', 'Data_Mining'], 'link': 'https://www.youtube.com/'}, {'name': 'Mor Shmuel', 'email': 'Mor.Shmuel@e.braude.ac.il', 'courses': ['cloud', 'physics', 'web', 'AI', 'Data_Mining'], 'link': 'https://translate.google.com/'}, {'name': 'Dor Shabat', 'email': 'dor.david.shabat@e.braude.ac.il', 'courses': ['cloud', 'physics', 'web', 'AI', 'Data_Mining'], 'link': 'https://open.spotify.com/'}, {'name': 'Yuval Rozner', 'email': 'Yuval.Rozner@e.braude.ac.il', 'courses': ['cloud', 'physics', 'web', 'AI', 'Data_Mining'], 'link': 'https://www.n12.co.il/'}]}\n"
          ]
        }
      ]
    },
    {
      "cell_type": "code",
      "source": [
        "import IPython\n",
        "import time\n",
        "from IPython.core.display import display_html\n",
        "from typing import Text\n",
        "from IPython.display import HTML\n",
        "from google.colab.output import _publish as publish\n",
        "\n",
        "textBoxData = widgets.HTML(value=\"\", layout={'width': '400px', 'height': '120px'})\n",
        "names=[]\n",
        "\n",
        "for data in content[\"students\"] :\n",
        "  names.append(data[\"name\"])\n",
        "\n",
        "def on_dropdown_click(change):\n",
        "  displayData=\"\"\n",
        "  for data in content[\"students\"] :\n",
        "    if(data[\"name\"] == change['new']):\n",
        "      displayData += f\"<b>Name:</b> {data['name']}<br>\"\n",
        "      displayData += f\"<b>Email:</b> {data['email']}<br>\"\n",
        "      displayData += f\"<b>Courses:</b> {data['courses']}<br>\"\n",
        "      displayData += f\"<b>Link:</b> <a href='{data['link']}' target='_blank'>{data['link']}</a><br>\"\n",
        "\n",
        "    textBoxData.value = displayData\n",
        "\n",
        "publish.css(\"b {color: blue} body {background-color: #ffff}\")\n",
        "IPython.display.display_html(\"<b>Choose Your Student</b>\", raw=True)\n",
        "\n",
        "# Allow input by including an empty string in the options\n",
        "dropdown = widgets.Dropdown(\n",
        "    options=names,\n",
        "    value=names[0],\n",
        ")\n",
        "display(dropdown)\n",
        "dropdown.observe(on_dropdown_click, names='value')\n",
        "\n",
        "display(textBoxData)"
      ],
      "metadata": {
        "id": "stQK1j-jcRho",
        "outputId": "bd476e4f-1137-46e4-c951-7a46e1ccf5f4",
        "colab": {
          "base_uri": "https://localhost:8080/",
          "height": 188,
          "referenced_widgets": [
            "4ea5518ad0ae47a08c6670c8b190f711",
            "2203d18b6f2e48ce8561efb546eff0c2",
            "fe2ddae0a22a408faef9a2440726f682",
            "aa33d87d3d274126882bcd4fa6c60716",
            "aff559886bc344c59f68c5e74c8e5b71",
            "d8ab8c23fb374fa683494bfaa415b81d"
          ]
        }
      },
      "execution_count": 27,
      "outputs": [
        {
          "output_type": "display_data",
          "data": {
            "text/plain": [
              "<IPython.core.display.HTML object>"
            ],
            "text/html": [
              "<style>b {color: blue} body {background-color: #ffff}</style>"
            ]
          },
          "metadata": {}
        },
        {
          "output_type": "display_data",
          "data": {
            "text/html": [
              "<b>Choose Your Student</b>"
            ]
          },
          "metadata": {}
        },
        {
          "output_type": "display_data",
          "data": {
            "text/plain": [
              "Dropdown(options=('Yoni Azeraf', 'Lior Zucker', 'Mor Shmuel', 'Dor Shabat', 'Yuval Rozner'), value='Yoni Azera…"
            ],
            "application/vnd.jupyter.widget-view+json": {
              "version_major": 2,
              "version_minor": 0,
              "model_id": "4ea5518ad0ae47a08c6670c8b190f711"
            }
          },
          "metadata": {}
        },
        {
          "output_type": "display_data",
          "data": {
            "text/plain": [
              "HTML(value='', layout=Layout(height='120px', width='400px'))"
            ],
            "application/vnd.jupyter.widget-view+json": {
              "version_major": 2,
              "version_minor": 0,
              "model_id": "aa33d87d3d274126882bcd4fa6c60716"
            }
          },
          "metadata": {}
        }
      ]
    },
    {
      "cell_type": "code",
      "source": [
        "import IPython\n",
        "from IPython.core.display import display_html\n",
        "from typing import Text\n",
        "from ipywidgets import widgets\n",
        "from IPython.display import HTML\n",
        "from google.colab.output import _publish as publish\n",
        "publish.css(\"b {color: blue} body {background-color: #ffff}\")\n",
        "IPython.display.display_html(\"<b>Add Your Favorite Show: </b>\", raw=True)\n",
        "\n",
        "update_text = widgets.Text(\n",
        ")\n",
        "\n",
        "update_button = widgets.Button(\n",
        "    description=\"Update\",\n",
        "    style=widgets.ButtonStyle(\n",
        "        button_color='lightgreen',\n",
        "        font_weight='bold',\n",
        "        tooltip='Click me to update!',\n",
        "    )\n",
        ")\n",
        "\n",
        "def on_button_click(b):\n",
        "    with open('students.json', 'r+') as file:\n",
        "        content=json.load(file)\n",
        "        new_line = {\"Favorite Show\": update_text.value}\n",
        "        for data in content[\"students\"] :\n",
        "          if(data[\"name\"] == dropdown.value):\n",
        "            data.update (new_line)\n",
        "    with open('students.json', 'w') as file:\n",
        "        json.dump(content,file)\n",
        "        print(f\"Updated {dropdown.value}'s favorite show to {update_text.value}\")\n",
        "\n",
        "update_button.on_click(on_button_click)\n",
        "\n",
        "display(update_text)\n",
        "display(update_button)"
      ],
      "metadata": {
        "id": "AeP1xBVygfdB",
        "outputId": "9fd8efb5-0dde-4b36-cf45-b19ce3dc89c4",
        "colab": {
          "base_uri": "https://localhost:8080/",
          "height": 116,
          "referenced_widgets": [
            "4e76485c73d94153b4748ec9fa13bab3",
            "cea6a7dbf58e4d55bb7834cda00960cd",
            "8c63978ddb164401acd4c313d25c240b",
            "f4c176dc216c40a0a0473e6edc83e967",
            "ba79dbfb43a34037be042c083cdc5560",
            "2f9bb7733dd449978f14375dac900db7"
          ]
        }
      },
      "execution_count": 32,
      "outputs": [
        {
          "output_type": "display_data",
          "data": {
            "text/plain": [
              "<IPython.core.display.HTML object>"
            ],
            "text/html": [
              "<style>b {color: blue} body {background-color: #ffff}</style>"
            ]
          },
          "metadata": {}
        },
        {
          "output_type": "display_data",
          "data": {
            "text/html": [
              "<b>Add Your Favorite Show: </b>"
            ]
          },
          "metadata": {}
        },
        {
          "output_type": "display_data",
          "data": {
            "text/plain": [
              "Text(value='')"
            ],
            "application/vnd.jupyter.widget-view+json": {
              "version_major": 2,
              "version_minor": 0,
              "model_id": "4e76485c73d94153b4748ec9fa13bab3"
            }
          },
          "metadata": {}
        },
        {
          "output_type": "display_data",
          "data": {
            "text/plain": [
              "Button(description='Update', style=ButtonStyle(button_color='lightgreen', font_weight='bold'))"
            ],
            "application/vnd.jupyter.widget-view+json": {
              "version_major": 2,
              "version_minor": 0,
              "model_id": "f4c176dc216c40a0a0473e6edc83e967"
            }
          },
          "metadata": {}
        },
        {
          "output_type": "stream",
          "name": "stdout",
          "text": [
            "Updated Lior Zucker's favorite show to r\n"
          ]
        }
      ]
    }
  ]
}