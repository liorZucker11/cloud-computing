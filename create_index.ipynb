{
  "nbformat": 4,
  "nbformat_minor": 0,
  "metadata": {
    "colab": {
      "provenance": [],
      "authorship_tag": "ABX9TyPnMZeN0U+G4GA2KHMXSwbN",
      "include_colab_link": true
    },
    "kernelspec": {
      "name": "python3",
      "display_name": "Python 3"
    },
    "language_info": {
      "name": "python"
    }
  },
  "cells": [
    {
      "cell_type": "markdown",
      "metadata": {
        "id": "view-in-github",
        "colab_type": "text"
      },
      "source": [
        "<a href=\"https://colab.research.google.com/github/liorZucker11/cloud-computing/blob/main/new_create_db.ipynb\" target=\"_parent\"><img src=\"https://colab.research.google.com/assets/colab-badge.svg\" alt=\"Open In Colab\"/></a>"
      ]
    },
    {
      "cell_type": "code",
      "source": [
        "import requests\n",
        "from bs4 import BeautifulSoup\n",
        "from urllib.parse import urljoin\n",
        "\n",
        "def fetch_page_and_sublinks(url, max_sublinks=50):\n",
        "    results = {}\n",
        "    visited_urls = set()\n",
        "\n",
        "    def fetch(url):\n",
        "        if len(visited_urls) >= max_sublinks:\n",
        "            return\n",
        "        if url[-1] != \"/\":\n",
        "          url += \"/\"\n",
        "        response = requests.get(url)\n",
        "        if response.status_code == 200:\n",
        "            soup = BeautifulSoup(response.text, 'html.parser')\n",
        "            results[url] = soup\n",
        "            visited_urls.add(url)\n",
        "            # Find all links in the soup object\n",
        "            for link in soup.find_all('a', href=True):\n",
        "              suffix = link.get('href')\n",
        "              if suffix == \"#main\":\n",
        "                suffix = \"\"\n",
        "              full_url = urljoin(url, suffix)\n",
        "              if \"azure\" not in full_url:\n",
        "                continue\n",
        "              if full_url not in visited_urls:\n",
        "                  fetch(full_url)  # Recursively fetch sublinks\n",
        "                  if len(visited_urls) >= max_sublinks:\n",
        "                    return\n",
        "        else:\n",
        "            results[url] = None\n",
        "\n",
        "    fetch(url)\n",
        "    return results"
      ],
      "metadata": {
        "id": "wKaKPzKxtBox"
      },
      "execution_count": 25,
      "outputs": []
    },
    {
      "cell_type": "code",
      "source": [
        "# Example usage\n",
        "url = \"https://azure.microsoft.com/en-us\"  # Replace with the URL you want to fetch\n",
        "data = fetch_page_and_sublinks(url)\n",
        "print(data.keys())  # This will print the URLs of the main page and sublinks fetched"
      ],
      "metadata": {
        "colab": {
          "base_uri": "https://localhost:8080/"
        },
        "id": "mFFKQvb57jyX",
        "outputId": "f1632988-83de-43a5-deb3-f63adef118bb"
      },
      "execution_count": 26,
      "outputs": [
        {
          "output_type": "stream",
          "name": "stdout",
          "text": [
            "dict_keys(['https://azure.microsoft.com/en-us/', 'https://portal.azure.com/', 'https://azure.microsoft.com/en-us/free/', 'https://azure.microsoft.com/en-us/contact/', 'https://azure.microsoft.com/en-us/explore/', 'https://azure.microsoft.com/en-us/explore/global-infrastructure/', 'https://azure.microsoft.com/en-us/solutions/cloud-economics/', 'https://azure.microsoft.com/en-us/solutions/cloud-enablement/', 'https://azure.microsoft.com/en-us/case-studies/', 'https://azure.microsoft.com/en-us/products/', 'https://azure.microsoft.com/en-us/products/virtual-machines/', 'https://azure.microsoft.com/en-us/products/virtual-desktop/', 'https://azure.microsoft.com/en-us/products/azure-sql/', 'https://azure.microsoft.com/en-us/products/cosmos-db/', 'https://azure.microsoft.com/en-us/products/kubernetes-service/', 'https://azure.microsoft.com/en-us/products/ai-services/', 'https://azure.microsoft.com/en-us/products/app-service/', 'https://azure.microsoft.com/en-us/services/playfab/', 'https://azure.microsoft.com/en-us/products/functions/', 'https://azure.microsoft.com/en-us/products/quantum/', 'https://azure.microsoft.com/en-us/services/azure-arc/', 'https://azure.microsoft.com/en-us/products/copilot/', 'https://azure.microsoft.com/en-us/products/machine-learning/', 'https://azure.microsoft.com/en-us/products/ai-studio/', 'https://azure.microsoft.com/en-us/products/ai-services/ai-search/', 'https://azure.microsoft.com/en-us/products/cognitive-services/openai-service/', 'https://azure.microsoft.com/en-us/services/cognitive-services/speech-services/', 'https://azure.microsoft.com/en-us/products/cognitive-services/language-service/', 'https://azure.microsoft.com/en-us/services/cognitive-services/translator/', 'https://azure.microsoft.com/en-us/products/cognitive-services/vision-services/', 'https://azure.microsoft.com/en-us/products/form-recognizer/', 'https://azure.microsoft.com/en-us/products/cognitive-services/content-safety/', 'https://azure.microsoft.com/en-us/products/synapse-analytics/', 'https://azure.microsoft.com/en-us/products/databricks/', 'https://azure.microsoft.com/en-us/products/purview/', 'https://azure.microsoft.com/en-us/products/data-factory/', 'https://azure.microsoft.com/en-us/products/hdinsight/', 'https://azure.microsoft.com/en-us/products/stream-analytics/', 'https://azure.microsoft.com/en-us/products/analysis-services/', 'https://azure.microsoft.com/en-us/products/storage/data-lake-storage/', 'https://azure.microsoft.com/en-us/products/data-explorer/', 'https://azure.microsoft.com/en-us/products/virtual-machine-scale-sets/', 'https://azure.microsoft.com/en-us/services/spring-apps/', 'https://azure.microsoft.com/en-us/products/virtual-machines/dedicated-host/', 'https://azure.microsoft.com/en-us/services/batch/', 'https://azure.microsoft.com/en-us/products/virtual-machines/sql-server/', 'https://azure.microsoft.com/en-us/products/virtual-machines/spot/', 'https://azure.microsoft.com/en-us/products/container-apps/', 'https://azure.microsoft.com/en-us/services/openshift/', 'https://azure.microsoft.com/en-us/products/app-service/containers/'])\n"
          ]
        }
      ]
    },
    {
      "cell_type": "code",
      "source": [
        "stop_words = {'',' ','a', 'an', 'the','I', 'you', 'he', 'she', 'it', 'we', 'they', 'me', 'him', 'her', 'us', 'them',\n",
        " 'in', 'to', 'for', 'with', 'on', 'at', 'by', 'from', 'up', 'off', 'about', 'into', 'over', 'after',\n",
        " 'and', 'but', 'or', 'as', 'if', 'when', 'than', 'because', 'while', 'where','be', 'have', 'do', 'is', 'am', 'are', 'was', 'were', 'being', 'been',\n",
        " 'some', 'such', 'only', 'own', 'so', 'than', 'too', 'very', 's', 't', 'can', 'will', 'just', 'don', 'should', 'now'}"
      ],
      "metadata": {
        "id": "qlthCFq-6zC_"
      },
      "execution_count": 27,
      "outputs": []
    },
    {
      "cell_type": "code",
      "source": [
        "def contains_forbidden_chars(word):\n",
        "    forbidden_chars = {'$', '#', '[', ']', '.', '/'}\n",
        "    for char in word:\n",
        "        if char in forbidden_chars:\n",
        "            print(f\"found char {char} in word{word}\")\n",
        "            return True\n",
        "    return False"
      ],
      "metadata": {
        "id": "vtnfaFJ-VPVD"
      },
      "execution_count": 28,
      "outputs": []
    },
    {
      "cell_type": "code",
      "source": [
        "import re\n",
        "def index_words(index, html_link, soup,stemmer):\n",
        "  words = re.findall(r'\\w+', soup.get_text())\n",
        "  for word in words:\n",
        "    word = word.lower()\n",
        "    word = stemmer.stem(word)\n",
        "    if word in stop_words:\n",
        "      continue\n",
        "    if contains_forbidden_chars(word):\n",
        "      continue\n",
        "    if word in index:\n",
        "      index[word][\"count\"] += 1\n",
        "      if html_link in index[word][\"links\"]:\n",
        "        index[word][\"links_counter\"][index[word][\"links\"].index(html_link)] += 1\n",
        "      else:\n",
        "        index[word][\"links\"].append(html_link)\n",
        "        index[word][\"links_counter\"].append(1)\n",
        "    else:\n",
        "      index[word] = {\"count\": 1, \"links\": [html_link],\"links_counter\":[1]}\n",
        "  return index"
      ],
      "metadata": {
        "id": "9nHSewtBZyfF"
      },
      "execution_count": 29,
      "outputs": []
    },
    {
      "cell_type": "code",
      "source": [
        "from nltk.stem import PorterStemmer\n",
        "def create_index(url):\n",
        "  stemmer = PorterStemmer()\n",
        "  dic = fetch_page_and_sublinks(url)\n",
        "  index = {}\n",
        "  for html_link in dic:\n",
        "    html_data = dic[html_link]\n",
        "    index = index_words(index, html_link ,html_data,stemmer)\n",
        "  #index = apply_stemming(index)\n",
        "  return index\n"
      ],
      "metadata": {
        "id": "yS5naD91b2y1"
      },
      "execution_count": 30,
      "outputs": []
    },
    {
      "cell_type": "code",
      "source": [
        "url = 'https://azure.microsoft.com/en-us'\n",
        "index = create_index(url)\n",
        "index_with_name = {\"index\": index}\n",
        "#print(index)\n",
        "#print(index['bird'])\n",
        "#print(index['john'])"
      ],
      "metadata": {
        "id": "Idvh1JNBcWdL"
      },
      "execution_count": 31,
      "outputs": []
    },
    {
      "cell_type": "code",
      "source": [
        "import json\n",
        "# The file path where you want to save the JSON data\n",
        "file_path = 'data.json'\n",
        "\n",
        "# Writing the dictionary to a file as JSON\n",
        "with open(file_path, 'w', encoding='utf-8') as f:\n",
        "    json.dump(index_with_name, f, ensure_ascii=False, indent=4)\n"
      ],
      "metadata": {
        "id": "0yUIV52k5fyY"
      },
      "execution_count": 32,
      "outputs": []
    }
  ]
}
