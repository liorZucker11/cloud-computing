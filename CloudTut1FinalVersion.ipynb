{
  "nbformat": 4,
  "nbformat_minor": 0,
  "metadata": {
    "colab": {
      "provenance": [],
      "include_colab_link": true
    },
    "kernelspec": {
      "name": "python3",
      "display_name": "Python 3"
    },
    "language_info": {
      "name": "python"
    },
    "widgets": {
      "application/vnd.jupyter.widget-state+json": {
        "1a0f1e4cdbb84412a8593914ecfc154a": {
          "model_module": "@jupyter-widgets/controls",
          "model_name": "DropdownModel",
          "model_module_version": "1.5.0",
          "state": {
            "_dom_classes": [],
            "_model_module": "@jupyter-widgets/controls",
            "_model_module_version": "1.5.0",
            "_model_name": "DropdownModel",
            "_options_labels": [
              "Choose...",
              "Yoni Azeraf",
              "Lior Zucker",
              "Mor Shmuel",
              "Dor Shabat",
              "Yuval Rozner"
            ],
            "_view_count": null,
            "_view_module": "@jupyter-widgets/controls",
            "_view_module_version": "1.5.0",
            "_view_name": "DropdownView",
            "description": "",
            "description_tooltip": null,
            "disabled": false,
            "index": 2,
            "layout": "IPY_MODEL_a28a56c36c7b455884863fbe82131421",
            "style": "IPY_MODEL_d50018bce0de4cb48cbee134f9616de5"
          }
        },
        "a28a56c36c7b455884863fbe82131421": {
          "model_module": "@jupyter-widgets/base",
          "model_name": "LayoutModel",
          "model_module_version": "1.2.0",
          "state": {
            "_model_module": "@jupyter-widgets/base",
            "_model_module_version": "1.2.0",
            "_model_name": "LayoutModel",
            "_view_count": null,
            "_view_module": "@jupyter-widgets/base",
            "_view_module_version": "1.2.0",
            "_view_name": "LayoutView",
            "align_content": null,
            "align_items": null,
            "align_self": null,
            "border": null,
            "bottom": null,
            "display": null,
            "flex": null,
            "flex_flow": null,
            "grid_area": null,
            "grid_auto_columns": null,
            "grid_auto_flow": null,
            "grid_auto_rows": null,
            "grid_column": null,
            "grid_gap": null,
            "grid_row": null,
            "grid_template_areas": null,
            "grid_template_columns": null,
            "grid_template_rows": null,
            "height": null,
            "justify_content": null,
            "justify_items": null,
            "left": null,
            "margin": null,
            "max_height": null,
            "max_width": null,
            "min_height": null,
            "min_width": null,
            "object_fit": null,
            "object_position": null,
            "order": null,
            "overflow": null,
            "overflow_x": null,
            "overflow_y": null,
            "padding": null,
            "right": null,
            "top": null,
            "visibility": null,
            "width": null
          }
        },
        "d50018bce0de4cb48cbee134f9616de5": {
          "model_module": "@jupyter-widgets/controls",
          "model_name": "DescriptionStyleModel",
          "model_module_version": "1.5.0",
          "state": {
            "_model_module": "@jupyter-widgets/controls",
            "_model_module_version": "1.5.0",
            "_model_name": "DescriptionStyleModel",
            "_view_count": null,
            "_view_module": "@jupyter-widgets/base",
            "_view_module_version": "1.2.0",
            "_view_name": "StyleView",
            "description_width": ""
          }
        },
        "812118d428184679a9509903031751d5": {
          "model_module": "@jupyter-widgets/controls",
          "model_name": "HTMLModel",
          "model_module_version": "1.5.0",
          "state": {
            "_dom_classes": [],
            "_model_module": "@jupyter-widgets/controls",
            "_model_module_version": "1.5.0",
            "_model_name": "HTMLModel",
            "_view_count": null,
            "_view_module": "@jupyter-widgets/controls",
            "_view_module_version": "1.5.0",
            "_view_name": "HTMLView",
            "description": "",
            "description_tooltip": null,
            "layout": "IPY_MODEL_4d8fd565e42940b89735c7077320b752",
            "placeholder": "​",
            "style": "IPY_MODEL_d2bd759f15784cfa8c3de00793b471b1",
            "value": "<b>Name:</b> Lior Zucker<br><b>Email:</b> Lior.Zucker@e.braude.ac.il<br><b>Courses:</b> cloud,physics,web,AI,Data_Mining<br><b>Link:</b> <a href='https://www.youtube.com/' target='_blank'>https://www.youtube.com/</a><br>"
          }
        },
        "4d8fd565e42940b89735c7077320b752": {
          "model_module": "@jupyter-widgets/base",
          "model_name": "LayoutModel",
          "model_module_version": "1.2.0",
          "state": {
            "_model_module": "@jupyter-widgets/base",
            "_model_module_version": "1.2.0",
            "_model_name": "LayoutModel",
            "_view_count": null,
            "_view_module": "@jupyter-widgets/base",
            "_view_module_version": "1.2.0",
            "_view_name": "LayoutView",
            "align_content": null,
            "align_items": null,
            "align_self": null,
            "border": null,
            "bottom": null,
            "display": null,
            "flex": null,
            "flex_flow": null,
            "grid_area": null,
            "grid_auto_columns": null,
            "grid_auto_flow": null,
            "grid_auto_rows": null,
            "grid_column": null,
            "grid_gap": null,
            "grid_row": null,
            "grid_template_areas": null,
            "grid_template_columns": null,
            "grid_template_rows": null,
            "height": "120px",
            "justify_content": null,
            "justify_items": null,
            "left": null,
            "margin": null,
            "max_height": null,
            "max_width": null,
            "min_height": null,
            "min_width": null,
            "object_fit": null,
            "object_position": null,
            "order": null,
            "overflow": null,
            "overflow_x": null,
            "overflow_y": null,
            "padding": null,
            "right": null,
            "top": null,
            "visibility": null,
            "width": "400px"
          }
        },
        "d2bd759f15784cfa8c3de00793b471b1": {
          "model_module": "@jupyter-widgets/controls",
          "model_name": "DescriptionStyleModel",
          "model_module_version": "1.5.0",
          "state": {
            "_model_module": "@jupyter-widgets/controls",
            "_model_module_version": "1.5.0",
            "_model_name": "DescriptionStyleModel",
            "_view_count": null,
            "_view_module": "@jupyter-widgets/base",
            "_view_module_version": "1.2.0",
            "_view_name": "StyleView",
            "description_width": ""
          }
        },
        "880fdcc0fc5b443bbeb51fdbd8531846": {
          "model_module": "@jupyter-widgets/controls",
          "model_name": "TextModel",
          "model_module_version": "1.5.0",
          "state": {
            "_dom_classes": [],
            "_model_module": "@jupyter-widgets/controls",
            "_model_module_version": "1.5.0",
            "_model_name": "TextModel",
            "_view_count": null,
            "_view_module": "@jupyter-widgets/controls",
            "_view_module_version": "1.5.0",
            "_view_name": "TextView",
            "continuous_update": true,
            "description": "",
            "description_tooltip": null,
            "disabled": false,
            "layout": "IPY_MODEL_c91995e21f3041caab4b9544c500ddba",
            "placeholder": "​",
            "style": "IPY_MODEL_2391f4c3a1c347c6acb468df857bb1a6",
            "value": "Friends"
          }
        },
        "c91995e21f3041caab4b9544c500ddba": {
          "model_module": "@jupyter-widgets/base",
          "model_name": "LayoutModel",
          "model_module_version": "1.2.0",
          "state": {
            "_model_module": "@jupyter-widgets/base",
            "_model_module_version": "1.2.0",
            "_model_name": "LayoutModel",
            "_view_count": null,
            "_view_module": "@jupyter-widgets/base",
            "_view_module_version": "1.2.0",
            "_view_name": "LayoutView",
            "align_content": null,
            "align_items": null,
            "align_self": null,
            "border": null,
            "bottom": null,
            "display": null,
            "flex": null,
            "flex_flow": null,
            "grid_area": null,
            "grid_auto_columns": null,
            "grid_auto_flow": null,
            "grid_auto_rows": null,
            "grid_column": null,
            "grid_gap": null,
            "grid_row": null,
            "grid_template_areas": null,
            "grid_template_columns": null,
            "grid_template_rows": null,
            "height": null,
            "justify_content": null,
            "justify_items": null,
            "left": null,
            "margin": null,
            "max_height": null,
            "max_width": null,
            "min_height": null,
            "min_width": null,
            "object_fit": null,
            "object_position": null,
            "order": null,
            "overflow": null,
            "overflow_x": null,
            "overflow_y": null,
            "padding": null,
            "right": null,
            "top": null,
            "visibility": null,
            "width": null
          }
        },
        "2391f4c3a1c347c6acb468df857bb1a6": {
          "model_module": "@jupyter-widgets/controls",
          "model_name": "DescriptionStyleModel",
          "model_module_version": "1.5.0",
          "state": {
            "_model_module": "@jupyter-widgets/controls",
            "_model_module_version": "1.5.0",
            "_model_name": "DescriptionStyleModel",
            "_view_count": null,
            "_view_module": "@jupyter-widgets/base",
            "_view_module_version": "1.2.0",
            "_view_name": "StyleView",
            "description_width": ""
          }
        },
        "4be92beda25b4acbba4fee9a92cf5b2c": {
          "model_module": "@jupyter-widgets/controls",
          "model_name": "ButtonModel",
          "model_module_version": "1.5.0",
          "state": {
            "_dom_classes": [],
            "_model_module": "@jupyter-widgets/controls",
            "_model_module_version": "1.5.0",
            "_model_name": "ButtonModel",
            "_view_count": null,
            "_view_module": "@jupyter-widgets/controls",
            "_view_module_version": "1.5.0",
            "_view_name": "ButtonView",
            "button_style": "",
            "description": "Update",
            "disabled": false,
            "icon": "",
            "layout": "IPY_MODEL_c9a2d4cbfe0549ad967dfcef5ea1fb8d",
            "style": "IPY_MODEL_219cde8b779649138564c2bfa31c4206",
            "tooltip": ""
          }
        },
        "c9a2d4cbfe0549ad967dfcef5ea1fb8d": {
          "model_module": "@jupyter-widgets/base",
          "model_name": "LayoutModel",
          "model_module_version": "1.2.0",
          "state": {
            "_model_module": "@jupyter-widgets/base",
            "_model_module_version": "1.2.0",
            "_model_name": "LayoutModel",
            "_view_count": null,
            "_view_module": "@jupyter-widgets/base",
            "_view_module_version": "1.2.0",
            "_view_name": "LayoutView",
            "align_content": null,
            "align_items": null,
            "align_self": null,
            "border": null,
            "bottom": null,
            "display": null,
            "flex": null,
            "flex_flow": null,
            "grid_area": null,
            "grid_auto_columns": null,
            "grid_auto_flow": null,
            "grid_auto_rows": null,
            "grid_column": null,
            "grid_gap": null,
            "grid_row": null,
            "grid_template_areas": null,
            "grid_template_columns": null,
            "grid_template_rows": null,
            "height": null,
            "justify_content": null,
            "justify_items": null,
            "left": null,
            "margin": null,
            "max_height": null,
            "max_width": null,
            "min_height": null,
            "min_width": null,
            "object_fit": null,
            "object_position": null,
            "order": null,
            "overflow": null,
            "overflow_x": null,
            "overflow_y": null,
            "padding": null,
            "right": null,
            "top": null,
            "visibility": null,
            "width": null
          }
        },
        "219cde8b779649138564c2bfa31c4206": {
          "model_module": "@jupyter-widgets/controls",
          "model_name": "ButtonStyleModel",
          "model_module_version": "1.5.0",
          "state": {
            "_model_module": "@jupyter-widgets/controls",
            "_model_module_version": "1.5.0",
            "_model_name": "ButtonStyleModel",
            "_view_count": null,
            "_view_module": "@jupyter-widgets/base",
            "_view_module_version": "1.2.0",
            "_view_name": "StyleView",
            "button_color": "lightgreen",
            "font_weight": "bold"
          }
        }
      }
    }
  },
  "cells": [
    {
      "cell_type": "markdown",
      "metadata": {
        "id": "view-in-github",
        "colab_type": "text"
      },
      "source": [
        "<a href=\"https://colab.research.google.com/github/liorZucker11/cloud-computing/blob/main/CloudTut1.ipynb\" target=\"_parent\"><img src=\"https://colab.research.google.com/assets/colab-badge.svg\" alt=\"Open In Colab\"/></a>"
      ]
    },
    {
      "cell_type": "code",
      "source": [
        "!pip install numpy"
      ],
      "metadata": {
        "colab": {
          "base_uri": "https://localhost:8080/"
        },
        "id": "AsPkBzTE7B3P",
        "outputId": "e21c49e5-d6f1-4c96-8ea3-01ef70b62559"
      },
      "execution_count": 228,
      "outputs": [
        {
          "output_type": "stream",
          "name": "stdout",
          "text": [
            "Requirement already satisfied: numpy in /usr/local/lib/python3.10/dist-packages (1.23.5)\n"
          ]
        }
      ]
    },
    {
      "cell_type": "code",
      "source": [
        "from google.colab import drive\n",
        "drive.mount('/content/drive/')"
      ],
      "metadata": {
        "colab": {
          "base_uri": "https://localhost:8080/"
        },
        "id": "iBARCyv1zk_T",
        "outputId": "34d730e2-0457-49b6-c040-065840408457"
      },
      "execution_count": 229,
      "outputs": [
        {
          "output_type": "stream",
          "name": "stdout",
          "text": [
            "Drive already mounted at /content/drive/; to attempt to forcibly remount, call drive.mount(\"/content/drive/\", force_remount=True).\n"
          ]
        }
      ]
    },
    {
      "cell_type": "code",
      "execution_count": 230,
      "metadata": {
        "id": "LvDUJByLzh1o"
      },
      "outputs": [],
      "source": [
        "import os\n",
        "drive_path = '/content/drive/MyDrive/'\n",
        "os.chdir(drive_path)"
      ]
    },
    {
      "cell_type": "code",
      "source": [
        "with open(\"students.txt\",\"r\") as file:\n",
        "  content=file.read()"
      ],
      "metadata": {
        "id": "1CCfE6_8zzYC"
      },
      "execution_count": 231,
      "outputs": []
    },
    {
      "cell_type": "code",
      "source": [
        "lines=content.split(\"\\n\")\n",
        "json_data=[]\n",
        "names=[\"Choose...\"]\n",
        "for i in range(0,len(lines)):\n",
        "  splitLine=lines[i].split(\" \")\n",
        "  name=splitLine[0]+\" \"+splitLine[1]\n",
        "  names.append(name)\n",
        "  email=splitLine[2]\n",
        "  courses=splitLine[3]\n",
        "  link=splitLine[4]\n",
        "  entry=[name,email,courses,link]\n",
        "  json_data.append(entry)"
      ],
      "metadata": {
        "id": "ufC5z5VXpPoj"
      },
      "execution_count": 232,
      "outputs": []
    },
    {
      "cell_type": "code",
      "source": [
        "import ipywidgets as widgets\n",
        "import IPython\n",
        "import time\n",
        "from IPython.core.display import display_html\n",
        "from typing import Text\n",
        "from IPython.display import HTML\n",
        "from google.colab.output import _publish as publish\n",
        "\n",
        "textBoxData = widgets.HTML(value=\"\", layout={'width': '400px', 'height': '120px'})\n",
        "\n",
        "def on_dropdown_click(change):\n",
        "  displayData=\"\"\n",
        "  for data in json_data :\n",
        "    if(data[0] == change['new']):\n",
        "      displayData += f\"<b>Name:</b> {data[0]}<br>\"\n",
        "      displayData += f\"<b>Email:</b> {data[1]}<br>\"\n",
        "      displayData += f\"<b>Courses:</b> {data[2]}<br>\"\n",
        "      displayData += f\"<b>Link:</b> <a href='{data[3]}' target='_blank'>{data[3]}</a><br>\"\n",
        "\n",
        "    textBoxData.value = displayData\n",
        "\n",
        "publish.css(\"b {color: blue} body {background-color: #f2bcca}\")\n",
        "IPython.display.display_html(\"<b>Choose Your Student</b>\", raw=True)\n",
        "\n",
        "# Allow input by including an empty string in the options\n",
        "dropdown = widgets.Dropdown(\n",
        "    options=names,\n",
        "    value=names[0],\n",
        ")\n",
        "display(dropdown)\n",
        "dropdown.observe(on_dropdown_click, names='value')\n",
        "\n",
        "display(textBoxData)"
      ],
      "metadata": {
        "id": "5MJTAkS03tzg",
        "colab": {
          "base_uri": "https://localhost:8080/",
          "height": 188,
          "referenced_widgets": [
            "1a0f1e4cdbb84412a8593914ecfc154a",
            "a28a56c36c7b455884863fbe82131421",
            "d50018bce0de4cb48cbee134f9616de5",
            "812118d428184679a9509903031751d5",
            "4d8fd565e42940b89735c7077320b752",
            "d2bd759f15784cfa8c3de00793b471b1"
          ]
        },
        "outputId": "0687a340-2166-4b9f-d823-a44fab476c8f"
      },
      "execution_count": 233,
      "outputs": [
        {
          "output_type": "display_data",
          "data": {
            "text/plain": [
              "<IPython.core.display.HTML object>"
            ],
            "text/html": [
              "<style>b {color: blue} body {background-color: #f2bcca}</style>"
            ]
          },
          "metadata": {}
        },
        {
          "output_type": "display_data",
          "data": {
            "text/html": [
              "<b>Choose Your Student</b>"
            ]
          },
          "metadata": {}
        },
        {
          "output_type": "display_data",
          "data": {
            "text/plain": [
              "Dropdown(options=('Choose...', 'Yoni Azeraf', 'Lior Zucker', 'Mor Shmuel', 'Dor Shabat', 'Yuval Rozner'), valu…"
            ],
            "application/vnd.jupyter.widget-view+json": {
              "version_major": 2,
              "version_minor": 0,
              "model_id": "1a0f1e4cdbb84412a8593914ecfc154a"
            }
          },
          "metadata": {}
        },
        {
          "output_type": "display_data",
          "data": {
            "text/plain": [
              "HTML(value='', layout=Layout(height='120px', width='400px'))"
            ],
            "application/vnd.jupyter.widget-view+json": {
              "version_major": 2,
              "version_minor": 0,
              "model_id": "812118d428184679a9509903031751d5"
            }
          },
          "metadata": {}
        }
      ]
    },
    {
      "cell_type": "code",
      "source": [
        "import IPython\n",
        "from IPython.core.display import display_html\n",
        "from typing import Text\n",
        "from ipywidgets import widgets\n",
        "from IPython.display import HTML\n",
        "from google.colab.output import _publish as publish\n",
        "publish.css(\"b {color: blue} body {background-color: #f2bcca}\")\n",
        "IPython.display.display_html(\"<b>Add Your Favorite Show: </b>\", raw=True)\n",
        "\n",
        "update_text = widgets.Text(\n",
        ")\n",
        "\n",
        "update_button = widgets.Button(\n",
        "    description=\"Update\",\n",
        "    style=widgets.ButtonStyle(\n",
        "        button_color='lightgreen',\n",
        "        font_weight='bold',\n",
        "        tooltip='Click me to update!',\n",
        "    )\n",
        ")\n",
        "\n",
        "def on_button_click(b):\n",
        "    with open('students.txt', 'a') as file:\n",
        "        new_line = f\"\\n{dropdown.value}: {update_text.value}\"\n",
        "        file.write(new_line)\n",
        "        print(f\"Updated {dropdown.value}'s favorite show to {update_text.value}\")\n",
        "\n",
        "update_button.on_click(on_button_click)\n",
        "\n",
        "display(update_text)\n",
        "display(update_button)"
      ],
      "metadata": {
        "colab": {
          "base_uri": "https://localhost:8080/",
          "height": 115,
          "referenced_widgets": [
            "880fdcc0fc5b443bbeb51fdbd8531846",
            "c91995e21f3041caab4b9544c500ddba",
            "2391f4c3a1c347c6acb468df857bb1a6",
            "4be92beda25b4acbba4fee9a92cf5b2c",
            "c9a2d4cbfe0549ad967dfcef5ea1fb8d",
            "219cde8b779649138564c2bfa31c4206"
          ]
        },
        "id": "9drVzONWzf_m",
        "outputId": "9c76bc2f-f56b-4a8e-c4c4-3f95f68c69cd"
      },
      "execution_count": 234,
      "outputs": [
        {
          "output_type": "display_data",
          "data": {
            "text/plain": [
              "<IPython.core.display.HTML object>"
            ],
            "text/html": [
              "<style>b {color: blue} body {background-color: #f2bcca}</style>"
            ]
          },
          "metadata": {}
        },
        {
          "output_type": "display_data",
          "data": {
            "text/html": [
              "<b>Add Your Favorite Show: </b>"
            ]
          },
          "metadata": {}
        },
        {
          "output_type": "display_data",
          "data": {
            "text/plain": [
              "Text(value='')"
            ],
            "application/vnd.jupyter.widget-view+json": {
              "version_major": 2,
              "version_minor": 0,
              "model_id": "880fdcc0fc5b443bbeb51fdbd8531846"
            }
          },
          "metadata": {}
        },
        {
          "output_type": "display_data",
          "data": {
            "text/plain": [
              "Button(description='Update', style=ButtonStyle(button_color='lightgreen', font_weight='bold'))"
            ],
            "application/vnd.jupyter.widget-view+json": {
              "version_major": 2,
              "version_minor": 0,
              "model_id": "4be92beda25b4acbba4fee9a92cf5b2c"
            }
          },
          "metadata": {}
        },
        {
          "output_type": "stream",
          "name": "stdout",
          "text": [
            "Updated Lior Zucker's favorite show to Friends\n"
          ]
        }
      ]
    }
  ]
}
