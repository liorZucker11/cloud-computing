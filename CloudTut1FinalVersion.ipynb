{
  "nbformat": 4,
  "nbformat_minor": 0,
  "metadata": {
    "colab": {
      "provenance": [],
      "include_colab_link": true
    },
    "kernelspec": {
      "name": "python3",
      "display_name": "Python 3"
    },
    "language_info": {
      "name": "python"
    },
    "widgets": {
      "application/vnd.jupyter.widget-state+json": {
        "e5be868aafd4406c985edd960f0831be": {
          "model_module": "@jupyter-widgets/controls",
          "model_name": "DropdownModel",
          "model_module_version": "1.5.0",
          "state": {
            "_dom_classes": [],
            "_model_module": "@jupyter-widgets/controls",
            "_model_module_version": "1.5.0",
            "_model_name": "DropdownModel",
            "_options_labels": [
              "Choose...",
              "Yoni Azeraf",
              "Lior Zucker",
              "Mor Shmuel",
              "Dor Shabat",
              "Yuval Rozner"
            ],
            "_view_count": null,
            "_view_module": "@jupyter-widgets/controls",
            "_view_module_version": "1.5.0",
            "_view_name": "DropdownView",
            "description": "",
            "description_tooltip": null,
            "disabled": false,
            "index": 4,
            "layout": "IPY_MODEL_a6935c5f4b7c4e0a89c96fccfe99d8ae",
            "style": "IPY_MODEL_9403a21ade264522920751c285e5bc9b"
          }
        },
        "a6935c5f4b7c4e0a89c96fccfe99d8ae": {
          "model_module": "@jupyter-widgets/base",
          "model_name": "LayoutModel",
          "model_module_version": "1.2.0",
          "state": {
            "_model_module": "@jupyter-widgets/base",
            "_model_module_version": "1.2.0",
            "_model_name": "LayoutModel",
            "_view_count": null,
            "_view_module": "@jupyter-widgets/base",
            "_view_module_version": "1.2.0",
            "_view_name": "LayoutView",
            "align_content": null,
            "align_items": null,
            "align_self": null,
            "border": null,
            "bottom": null,
            "display": null,
            "flex": null,
            "flex_flow": null,
            "grid_area": null,
            "grid_auto_columns": null,
            "grid_auto_flow": null,
            "grid_auto_rows": null,
            "grid_column": null,
            "grid_gap": null,
            "grid_row": null,
            "grid_template_areas": null,
            "grid_template_columns": null,
            "grid_template_rows": null,
            "height": null,
            "justify_content": null,
            "justify_items": null,
            "left": null,
            "margin": null,
            "max_height": null,
            "max_width": null,
            "min_height": null,
            "min_width": null,
            "object_fit": null,
            "object_position": null,
            "order": null,
            "overflow": null,
            "overflow_x": null,
            "overflow_y": null,
            "padding": null,
            "right": null,
            "top": null,
            "visibility": null,
            "width": null
          }
        },
        "9403a21ade264522920751c285e5bc9b": {
          "model_module": "@jupyter-widgets/controls",
          "model_name": "DescriptionStyleModel",
          "model_module_version": "1.5.0",
          "state": {
            "_model_module": "@jupyter-widgets/controls",
            "_model_module_version": "1.5.0",
            "_model_name": "DescriptionStyleModel",
            "_view_count": null,
            "_view_module": "@jupyter-widgets/base",
            "_view_module_version": "1.2.0",
            "_view_name": "StyleView",
            "description_width": ""
          }
        },
        "ab4364a8e0124d9e826b6046deb8e77c": {
          "model_module": "@jupyter-widgets/controls",
          "model_name": "HTMLModel",
          "model_module_version": "1.5.0",
          "state": {
            "_dom_classes": [],
            "_model_module": "@jupyter-widgets/controls",
            "_model_module_version": "1.5.0",
            "_model_name": "HTMLModel",
            "_view_count": null,
            "_view_module": "@jupyter-widgets/controls",
            "_view_module_version": "1.5.0",
            "_view_name": "HTMLView",
            "description": "",
            "description_tooltip": null,
            "layout": "IPY_MODEL_e72baff3eee14c7199ac712128ab4e74",
            "placeholder": "​",
            "style": "IPY_MODEL_4c277b5e4d20478ebb0661d4fcd55545",
            "value": "<b>Name:</b> Dor Shabat<br><b>Email:</b> dor.david.shabat@e.braude.ac.il<br><b>Courses:</b> cloud,physics,web,AI,Data_Mining<br><b>Link:</b> <a href='https://open.spotify.com/' target='_blank'>https://open.spotify.com/</a><br>"
          }
        },
        "e72baff3eee14c7199ac712128ab4e74": {
          "model_module": "@jupyter-widgets/base",
          "model_name": "LayoutModel",
          "model_module_version": "1.2.0",
          "state": {
            "_model_module": "@jupyter-widgets/base",
            "_model_module_version": "1.2.0",
            "_model_name": "LayoutModel",
            "_view_count": null,
            "_view_module": "@jupyter-widgets/base",
            "_view_module_version": "1.2.0",
            "_view_name": "LayoutView",
            "align_content": null,
            "align_items": null,
            "align_self": null,
            "border": null,
            "bottom": null,
            "display": null,
            "flex": null,
            "flex_flow": null,
            "grid_area": null,
            "grid_auto_columns": null,
            "grid_auto_flow": null,
            "grid_auto_rows": null,
            "grid_column": null,
            "grid_gap": null,
            "grid_row": null,
            "grid_template_areas": null,
            "grid_template_columns": null,
            "grid_template_rows": null,
            "height": "120px",
            "justify_content": null,
            "justify_items": null,
            "left": null,
            "margin": null,
            "max_height": null,
            "max_width": null,
            "min_height": null,
            "min_width": null,
            "object_fit": null,
            "object_position": null,
            "order": null,
            "overflow": null,
            "overflow_x": null,
            "overflow_y": null,
            "padding": null,
            "right": null,
            "top": null,
            "visibility": null,
            "width": "400px"
          }
        },
        "4c277b5e4d20478ebb0661d4fcd55545": {
          "model_module": "@jupyter-widgets/controls",
          "model_name": "DescriptionStyleModel",
          "model_module_version": "1.5.0",
          "state": {
            "_model_module": "@jupyter-widgets/controls",
            "_model_module_version": "1.5.0",
            "_model_name": "DescriptionStyleModel",
            "_view_count": null,
            "_view_module": "@jupyter-widgets/base",
            "_view_module_version": "1.2.0",
            "_view_name": "StyleView",
            "description_width": ""
          }
        },
        "fedab887213d42c690bc5df88b1c6a7b": {
          "model_module": "@jupyter-widgets/controls",
          "model_name": "TextModel",
          "model_module_version": "1.5.0",
          "state": {
            "_dom_classes": [],
            "_model_module": "@jupyter-widgets/controls",
            "_model_module_version": "1.5.0",
            "_model_name": "TextModel",
            "_view_count": null,
            "_view_module": "@jupyter-widgets/controls",
            "_view_module_version": "1.5.0",
            "_view_name": "TextView",
            "continuous_update": true,
            "description": "",
            "description_tooltip": null,
            "disabled": false,
            "layout": "IPY_MODEL_e883d0240cde424a8666cacd20b0d8a7",
            "placeholder": "​",
            "style": "IPY_MODEL_76d95a332cd54199b33ce26ebef2b7f0",
            "value": ""
          }
        },
        "e883d0240cde424a8666cacd20b0d8a7": {
          "model_module": "@jupyter-widgets/base",
          "model_name": "LayoutModel",
          "model_module_version": "1.2.0",
          "state": {
            "_model_module": "@jupyter-widgets/base",
            "_model_module_version": "1.2.0",
            "_model_name": "LayoutModel",
            "_view_count": null,
            "_view_module": "@jupyter-widgets/base",
            "_view_module_version": "1.2.0",
            "_view_name": "LayoutView",
            "align_content": null,
            "align_items": null,
            "align_self": null,
            "border": null,
            "bottom": null,
            "display": null,
            "flex": null,
            "flex_flow": null,
            "grid_area": null,
            "grid_auto_columns": null,
            "grid_auto_flow": null,
            "grid_auto_rows": null,
            "grid_column": null,
            "grid_gap": null,
            "grid_row": null,
            "grid_template_areas": null,
            "grid_template_columns": null,
            "grid_template_rows": null,
            "height": null,
            "justify_content": null,
            "justify_items": null,
            "left": null,
            "margin": null,
            "max_height": null,
            "max_width": null,
            "min_height": null,
            "min_width": null,
            "object_fit": null,
            "object_position": null,
            "order": null,
            "overflow": null,
            "overflow_x": null,
            "overflow_y": null,
            "padding": null,
            "right": null,
            "top": null,
            "visibility": null,
            "width": null
          }
        },
        "76d95a332cd54199b33ce26ebef2b7f0": {
          "model_module": "@jupyter-widgets/controls",
          "model_name": "DescriptionStyleModel",
          "model_module_version": "1.5.0",
          "state": {
            "_model_module": "@jupyter-widgets/controls",
            "_model_module_version": "1.5.0",
            "_model_name": "DescriptionStyleModel",
            "_view_count": null,
            "_view_module": "@jupyter-widgets/base",
            "_view_module_version": "1.2.0",
            "_view_name": "StyleView",
            "description_width": ""
          }
        },
        "6175b25c107b4dc5bbba2d5a7b4e369e": {
          "model_module": "@jupyter-widgets/controls",
          "model_name": "ButtonModel",
          "model_module_version": "1.5.0",
          "state": {
            "_dom_classes": [],
            "_model_module": "@jupyter-widgets/controls",
            "_model_module_version": "1.5.0",
            "_model_name": "ButtonModel",
            "_view_count": null,
            "_view_module": "@jupyter-widgets/controls",
            "_view_module_version": "1.5.0",
            "_view_name": "ButtonView",
            "button_style": "",
            "description": "Update",
            "disabled": false,
            "icon": "",
            "layout": "IPY_MODEL_ef9d8ed8cbcb4b3aa64e61fb5fd75b0b",
            "style": "IPY_MODEL_7bf6afa095a349b19eaa4439c3d99a21",
            "tooltip": ""
          }
        },
        "ef9d8ed8cbcb4b3aa64e61fb5fd75b0b": {
          "model_module": "@jupyter-widgets/base",
          "model_name": "LayoutModel",
          "model_module_version": "1.2.0",
          "state": {
            "_model_module": "@jupyter-widgets/base",
            "_model_module_version": "1.2.0",
            "_model_name": "LayoutModel",
            "_view_count": null,
            "_view_module": "@jupyter-widgets/base",
            "_view_module_version": "1.2.0",
            "_view_name": "LayoutView",
            "align_content": null,
            "align_items": null,
            "align_self": null,
            "border": null,
            "bottom": null,
            "display": null,
            "flex": null,
            "flex_flow": null,
            "grid_area": null,
            "grid_auto_columns": null,
            "grid_auto_flow": null,
            "grid_auto_rows": null,
            "grid_column": null,
            "grid_gap": null,
            "grid_row": null,
            "grid_template_areas": null,
            "grid_template_columns": null,
            "grid_template_rows": null,
            "height": null,
            "justify_content": null,
            "justify_items": null,
            "left": null,
            "margin": null,
            "max_height": null,
            "max_width": null,
            "min_height": null,
            "min_width": null,
            "object_fit": null,
            "object_position": null,
            "order": null,
            "overflow": null,
            "overflow_x": null,
            "overflow_y": null,
            "padding": null,
            "right": null,
            "top": null,
            "visibility": null,
            "width": null
          }
        },
        "7bf6afa095a349b19eaa4439c3d99a21": {
          "model_module": "@jupyter-widgets/controls",
          "model_name": "ButtonStyleModel",
          "model_module_version": "1.5.0",
          "state": {
            "_model_module": "@jupyter-widgets/controls",
            "_model_module_version": "1.5.0",
            "_model_name": "ButtonStyleModel",
            "_view_count": null,
            "_view_module": "@jupyter-widgets/base",
            "_view_module_version": "1.2.0",
            "_view_name": "StyleView",
            "button_color": "lightgreen",
            "font_weight": "bold"
          }
        }
      }
    }
  },
  "cells": [
    {
      "cell_type": "markdown",
      "metadata": {
        "id": "view-in-github",
        "colab_type": "text"
      },
      "source": [
        "<a href=\"https://colab.research.google.com/github/liorZucker11/cloud-computing/blob/main/CloudTut1FinalVersion.ipynb\" target=\"_parent\"><img src=\"https://colab.research.google.com/assets/colab-badge.svg\" alt=\"Open In Colab\"/></a>"
      ]
    },
    {
      "cell_type": "code",
      "source": [
        "!pip install numpy"
      ],
      "metadata": {
        "colab": {
          "base_uri": "https://localhost:8080/"
        },
        "id": "AsPkBzTE7B3P",
        "outputId": "d08de1dd-f223-4add-e0c8-37e298abf324"
      },
      "execution_count": 1,
      "outputs": [
        {
          "output_type": "stream",
          "name": "stdout",
          "text": [
            "Requirement already satisfied: numpy in /usr/local/lib/python3.10/dist-packages (1.23.5)\n"
          ]
        }
      ]
    },
    {
      "cell_type": "code",
      "source": [
        "from google.colab import drive\n",
        "drive.mount('/content/drive/')"
      ],
      "metadata": {
        "colab": {
          "base_uri": "https://localhost:8080/"
        },
        "id": "iBARCyv1zk_T",
        "outputId": "874b8c28-dc6c-43a3-d20a-34bdab1f9e4d"
      },
      "execution_count": 2,
      "outputs": [
        {
          "output_type": "stream",
          "name": "stdout",
          "text": [
            "Mounted at /content/drive/\n"
          ]
        }
      ]
    },
    {
      "cell_type": "code",
      "execution_count": 3,
      "metadata": {
        "id": "LvDUJByLzh1o"
      },
      "outputs": [],
      "source": [
        "import os\n",
        "drive_path = '/content/drive/MyDrive/cloudTut/'\n",
        "os.chdir(drive_path)"
      ]
    },
    {
      "cell_type": "code",
      "source": [
        "with open(\"cloudTut/students.txt\",\"r\") as file:\n",
        "  content=file.read()"
      ],
      "metadata": {
        "id": "1CCfE6_8zzYC"
      },
      "execution_count": 7,
      "outputs": []
    },
    {
      "cell_type": "code",
      "source": [
        "lines=content.split(\"\\n\")\n",
        "json_data=[]\n",
        "names=[\"Choose...\"]\n",
        "for i in range(0,len(lines)):\n",
        "  splitLine=lines[i].split(\" \")\n",
        "  name=splitLine[0]+\" \"+splitLine[1]\n",
        "  names.append(name)\n",
        "  email=splitLine[2]\n",
        "  courses=splitLine[3]\n",
        "  link=splitLine[4]\n",
        "  entry=[name,email,courses,link]\n",
        "  json_data.append(entry)"
      ],
      "metadata": {
        "id": "ufC5z5VXpPoj"
      },
      "execution_count": 8,
      "outputs": []
    },
    {
      "cell_type": "code",
      "source": [
        "import ipywidgets as widgets\n",
        "import IPython\n",
        "import time\n",
        "from IPython.core.display import display_html\n",
        "from typing import Text\n",
        "from IPython.display import HTML\n",
        "from google.colab.output import _publish as publish\n",
        "\n",
        "textBoxData = widgets.HTML(value=\"\", layout={'width': '400px', 'height': '120px'})\n",
        "\n",
        "def on_dropdown_click(change):\n",
        "  displayData=\"\"\n",
        "  for data in json_data :\n",
        "    if(data[0] == change['new']):\n",
        "      displayData += f\"<b>Name:</b> {data[0]}<br>\"\n",
        "      displayData += f\"<b>Email:</b> {data[1]}<br>\"\n",
        "      displayData += f\"<b>Courses:</b> {data[2]}<br>\"\n",
        "      displayData += f\"<b>Link:</b> <a href='{data[3]}' target='_blank'>{data[3]}</a><br>\"\n",
        "\n",
        "    textBoxData.value = displayData\n",
        "\n",
        "publish.css(\"b {color: blue} body {background-color: #f2bcca}\")\n",
        "IPython.display.display_html(\"<b>Choose Your Student</b>\", raw=True)\n",
        "\n",
        "# Allow input by including an empty string in the options\n",
        "dropdown = widgets.Dropdown(\n",
        "    options=names,\n",
        "    value=names[0],\n",
        ")\n",
        "display(dropdown)\n",
        "dropdown.observe(on_dropdown_click, names='value')\n",
        "\n",
        "display(textBoxData)"
      ],
      "metadata": {
        "id": "5MJTAkS03tzg",
        "colab": {
          "base_uri": "https://localhost:8080/",
          "height": 188,
          "referenced_widgets": [
            "e5be868aafd4406c985edd960f0831be",
            "a6935c5f4b7c4e0a89c96fccfe99d8ae",
            "9403a21ade264522920751c285e5bc9b",
            "ab4364a8e0124d9e826b6046deb8e77c",
            "e72baff3eee14c7199ac712128ab4e74",
            "4c277b5e4d20478ebb0661d4fcd55545"
          ]
        },
        "outputId": "3f5afe5f-f81a-4a29-9f1b-f98ba53e0c84"
      },
      "execution_count": 10,
      "outputs": [
        {
          "output_type": "display_data",
          "data": {
            "text/plain": [
              "<IPython.core.display.HTML object>"
            ],
            "text/html": [
              "<style>b {color: blue} body {background-color: #f2bcca}</style>"
            ]
          },
          "metadata": {}
        },
        {
          "output_type": "display_data",
          "data": {
            "text/html": [
              "<b>Choose Your Student</b>"
            ]
          },
          "metadata": {}
        },
        {
          "output_type": "display_data",
          "data": {
            "text/plain": [
              "Dropdown(options=('Choose...', 'Yoni Azeraf', 'Lior Zucker', 'Mor Shmuel', 'Dor Shabat', 'Yuval Rozner'), valu…"
            ],
            "application/vnd.jupyter.widget-view+json": {
              "version_major": 2,
              "version_minor": 0,
              "model_id": "e5be868aafd4406c985edd960f0831be"
            }
          },
          "metadata": {}
        },
        {
          "output_type": "display_data",
          "data": {
            "text/plain": [
              "HTML(value='', layout=Layout(height='120px', width='400px'))"
            ],
            "application/vnd.jupyter.widget-view+json": {
              "version_major": 2,
              "version_minor": 0,
              "model_id": "ab4364a8e0124d9e826b6046deb8e77c"
            }
          },
          "metadata": {}
        }
      ]
    },
    {
      "cell_type": "code",
      "source": [
        "import IPython\n",
        "from IPython.core.display import display_html\n",
        "from typing import Text\n",
        "from ipywidgets import widgets\n",
        "from IPython.display import HTML\n",
        "from google.colab.output import _publish as publish\n",
        "publish.css(\"b {color: blue} body {background-color: #f2bcca}\")\n",
        "IPython.display.display_html(\"<b>Add Your Favorite Show: </b>\", raw=True)\n",
        "\n",
        "update_text = widgets.Text(\n",
        ")\n",
        "\n",
        "update_button = widgets.Button(\n",
        "    description=\"Update\",\n",
        "    style=widgets.ButtonStyle(\n",
        "        button_color='lightgreen',\n",
        "        font_weight='bold',\n",
        "        tooltip='Click me to update!',\n",
        "    )\n",
        ")\n",
        "\n",
        "def on_button_click(b):\n",
        "    with open('students.txt', 'a') as file:\n",
        "        new_line = f\"\\n{dropdown.value}: {update_text.value}\"\n",
        "        file.write(new_line)\n",
        "        print(f\"Updated {dropdown.value}'s favorite show to {update_text.value}\")\n",
        "\n",
        "update_button.on_click(on_button_click)\n",
        "\n",
        "display(update_text)\n",
        "display(update_button)"
      ],
      "metadata": {
        "colab": {
          "base_uri": "https://localhost:8080/",
          "height": 98,
          "referenced_widgets": [
            "fedab887213d42c690bc5df88b1c6a7b",
            "e883d0240cde424a8666cacd20b0d8a7",
            "76d95a332cd54199b33ce26ebef2b7f0",
            "6175b25c107b4dc5bbba2d5a7b4e369e",
            "ef9d8ed8cbcb4b3aa64e61fb5fd75b0b",
            "7bf6afa095a349b19eaa4439c3d99a21"
          ]
        },
        "id": "9drVzONWzf_m",
        "outputId": "76419276-fcd2-410b-a2c2-9089e1a40c2b"
      },
      "execution_count": 11,
      "outputs": [
        {
          "output_type": "display_data",
          "data": {
            "text/plain": [
              "<IPython.core.display.HTML object>"
            ],
            "text/html": [
              "<style>b {color: blue} body {background-color: #f2bcca}</style>"
            ]
          },
          "metadata": {}
        },
        {
          "output_type": "display_data",
          "data": {
            "text/html": [
              "<b>Add Your Favorite Show: </b>"
            ]
          },
          "metadata": {}
        },
        {
          "output_type": "display_data",
          "data": {
            "text/plain": [
              "Text(value='')"
            ],
            "application/vnd.jupyter.widget-view+json": {
              "version_major": 2,
              "version_minor": 0,
              "model_id": "fedab887213d42c690bc5df88b1c6a7b"
            }
          },
          "metadata": {}
        },
        {
          "output_type": "display_data",
          "data": {
            "text/plain": [
              "Button(description='Update', style=ButtonStyle(button_color='lightgreen', font_weight='bold'))"
            ],
            "application/vnd.jupyter.widget-view+json": {
              "version_major": 2,
              "version_minor": 0,
              "model_id": "6175b25c107b4dc5bbba2d5a7b4e369e"
            }
          },
          "metadata": {}
        }
      ]
    }
  ]
}