{
  "nbformat": 4,
  "nbformat_minor": 0,
  "metadata": {
    "colab": {
      "provenance": [],
      "authorship_tag": "ABX9TyPMcN3pg2EEvGwNyuJnIP+J",
      "include_colab_link": true
    },
    "kernelspec": {
      "name": "python3",
      "display_name": "Python 3"
    },
    "language_info": {
      "name": "python"
    },
    "widgets": {
      "application/vnd.jupyter.widget-state+json": {
        "7efae36609a248f88535d416b5347ee9": {
          "model_module": "@jupyter-widgets/controls",
          "model_name": "VBoxModel",
          "model_module_version": "1.5.0",
          "state": {
            "_dom_classes": [],
            "_model_module": "@jupyter-widgets/controls",
            "_model_module_version": "1.5.0",
            "_model_name": "VBoxModel",
            "_view_count": null,
            "_view_module": "@jupyter-widgets/controls",
            "_view_module_version": "1.5.0",
            "_view_name": "VBoxView",
            "box_style": "",
            "children": [
              "IPY_MODEL_e20fd108c15344e1939bb61d64fb9a4b",
              "IPY_MODEL_05622d8931204e21971635aa5d042334",
              "IPY_MODEL_8be62349feb0433f98104044a59c02b8"
            ],
            "layout": "IPY_MODEL_95668d7da46e4a65bbe92f7b4a220fc5"
          }
        },
        "e20fd108c15344e1939bb61d64fb9a4b": {
          "model_module": "@jupyter-widgets/controls",
          "model_name": "TextModel",
          "model_module_version": "1.5.0",
          "state": {
            "_dom_classes": [],
            "_model_module": "@jupyter-widgets/controls",
            "_model_module_version": "1.5.0",
            "_model_name": "TextModel",
            "_view_count": null,
            "_view_module": "@jupyter-widgets/controls",
            "_view_module_version": "1.5.0",
            "_view_name": "TextView",
            "continuous_update": true,
            "description": "Search Query:",
            "description_tooltip": null,
            "disabled": false,
            "layout": "IPY_MODEL_5f8efb91924940a4b07e181cb68605cd",
            "placeholder": "Type something",
            "style": "IPY_MODEL_73cb1a0b8c7c4801b5f2697c69ae7dad",
            "value": ""
          }
        },
        "05622d8931204e21971635aa5d042334": {
          "model_module": "@jupyter-widgets/controls",
          "model_name": "ButtonModel",
          "model_module_version": "1.5.0",
          "state": {
            "_dom_classes": [],
            "_model_module": "@jupyter-widgets/controls",
            "_model_module_version": "1.5.0",
            "_model_name": "ButtonModel",
            "_view_count": null,
            "_view_module": "@jupyter-widgets/controls",
            "_view_module_version": "1.5.0",
            "_view_name": "ButtonView",
            "button_style": "success",
            "description": "Search",
            "disabled": false,
            "icon": "",
            "layout": "IPY_MODEL_5f8efb91924940a4b07e181cb68605cd",
            "style": "IPY_MODEL_c957b9fb282c4f7cbe92d1637f00e6cb",
            "tooltip": ""
          }
        },
        "8be62349feb0433f98104044a59c02b8": {
          "model_module": "@jupyter-widgets/output",
          "model_name": "OutputModel",
          "model_module_version": "1.0.0",
          "state": {
            "_dom_classes": [],
            "_model_module": "@jupyter-widgets/output",
            "_model_module_version": "1.0.0",
            "_model_name": "OutputModel",
            "_view_count": null,
            "_view_module": "@jupyter-widgets/output",
            "_view_module_version": "1.0.0",
            "_view_name": "OutputView",
            "layout": "IPY_MODEL_e5b91dd08dcc49439a0017c370685651",
            "msg_id": "",
            "outputs": []
          }
        },
        "95668d7da46e4a65bbe92f7b4a220fc5": {
          "model_module": "@jupyter-widgets/base",
          "model_name": "LayoutModel",
          "model_module_version": "1.2.0",
          "state": {
            "_model_module": "@jupyter-widgets/base",
            "_model_module_version": "1.2.0",
            "_model_name": "LayoutModel",
            "_view_count": null,
            "_view_module": "@jupyter-widgets/base",
            "_view_module_version": "1.2.0",
            "_view_name": "LayoutView",
            "align_content": null,
            "align_items": null,
            "align_self": null,
            "border": null,
            "bottom": null,
            "display": null,
            "flex": null,
            "flex_flow": null,
            "grid_area": null,
            "grid_auto_columns": null,
            "grid_auto_flow": null,
            "grid_auto_rows": null,
            "grid_column": null,
            "grid_gap": null,
            "grid_row": null,
            "grid_template_areas": null,
            "grid_template_columns": null,
            "grid_template_rows": null,
            "height": null,
            "justify_content": null,
            "justify_items": null,
            "left": null,
            "margin": null,
            "max_height": null,
            "max_width": null,
            "min_height": null,
            "min_width": null,
            "object_fit": null,
            "object_position": null,
            "order": null,
            "overflow": null,
            "overflow_x": null,
            "overflow_y": null,
            "padding": null,
            "right": null,
            "top": null,
            "visibility": null,
            "width": null
          }
        },
        "5f8efb91924940a4b07e181cb68605cd": {
          "model_module": "@jupyter-widgets/base",
          "model_name": "LayoutModel",
          "model_module_version": "1.2.0",
          "state": {
            "_model_module": "@jupyter-widgets/base",
            "_model_module_version": "1.2.0",
            "_model_name": "LayoutModel",
            "_view_count": null,
            "_view_module": "@jupyter-widgets/base",
            "_view_module_version": "1.2.0",
            "_view_name": "LayoutView",
            "align_content": null,
            "align_items": null,
            "align_self": null,
            "border": null,
            "bottom": null,
            "display": null,
            "flex": null,
            "flex_flow": null,
            "grid_area": null,
            "grid_auto_columns": null,
            "grid_auto_flow": null,
            "grid_auto_rows": null,
            "grid_column": null,
            "grid_gap": null,
            "grid_row": null,
            "grid_template_areas": null,
            "grid_template_columns": null,
            "grid_template_rows": null,
            "height": "40px",
            "justify_content": null,
            "justify_items": null,
            "left": null,
            "margin": null,
            "max_height": null,
            "max_width": null,
            "min_height": null,
            "min_width": null,
            "object_fit": null,
            "object_position": null,
            "order": null,
            "overflow": null,
            "overflow_x": null,
            "overflow_y": null,
            "padding": null,
            "right": null,
            "top": null,
            "visibility": null,
            "width": "auto"
          }
        },
        "73cb1a0b8c7c4801b5f2697c69ae7dad": {
          "model_module": "@jupyter-widgets/controls",
          "model_name": "DescriptionStyleModel",
          "model_module_version": "1.5.0",
          "state": {
            "_model_module": "@jupyter-widgets/controls",
            "_model_module_version": "1.5.0",
            "_model_name": "DescriptionStyleModel",
            "_view_count": null,
            "_view_module": "@jupyter-widgets/base",
            "_view_module_version": "1.2.0",
            "_view_name": "StyleView",
            "description_width": "initial"
          }
        },
        "c957b9fb282c4f7cbe92d1637f00e6cb": {
          "model_module": "@jupyter-widgets/controls",
          "model_name": "ButtonStyleModel",
          "model_module_version": "1.5.0",
          "state": {
            "_model_module": "@jupyter-widgets/controls",
            "_model_module_version": "1.5.0",
            "_model_name": "ButtonStyleModel",
            "_view_count": null,
            "_view_module": "@jupyter-widgets/base",
            "_view_module_version": "1.2.0",
            "_view_name": "StyleView",
            "button_color": null,
            "font_weight": ""
          }
        },
        "e5b91dd08dcc49439a0017c370685651": {
          "model_module": "@jupyter-widgets/base",
          "model_name": "LayoutModel",
          "model_module_version": "1.2.0",
          "state": {
            "_model_module": "@jupyter-widgets/base",
            "_model_module_version": "1.2.0",
            "_model_name": "LayoutModel",
            "_view_count": null,
            "_view_module": "@jupyter-widgets/base",
            "_view_module_version": "1.2.0",
            "_view_name": "LayoutView",
            "align_content": null,
            "align_items": null,
            "align_self": null,
            "border": null,
            "bottom": null,
            "display": null,
            "flex": null,
            "flex_flow": null,
            "grid_area": null,
            "grid_auto_columns": null,
            "grid_auto_flow": null,
            "grid_auto_rows": null,
            "grid_column": null,
            "grid_gap": null,
            "grid_row": null,
            "grid_template_areas": null,
            "grid_template_columns": null,
            "grid_template_rows": null,
            "height": null,
            "justify_content": null,
            "justify_items": null,
            "left": null,
            "margin": null,
            "max_height": null,
            "max_width": null,
            "min_height": null,
            "min_width": null,
            "object_fit": null,
            "object_position": null,
            "order": null,
            "overflow": null,
            "overflow_x": null,
            "overflow_y": null,
            "padding": null,
            "right": null,
            "top": null,
            "visibility": null,
            "width": null
          }
        }
      }
    }
  },
  "cells": [
    {
      "cell_type": "markdown",
      "metadata": {
        "id": "view-in-github",
        "colab_type": "text"
      },
      "source": [
        "<a href=\"https://colab.research.google.com/github/liorZucker11/cloud-computing/blob/main/HW2.ipynb\" target=\"_parent\"><img src=\"https://colab.research.google.com/assets/colab-badge.svg\" alt=\"Open In Colab\"/></a>"
      ]
    },
    {
      "cell_type": "code",
      "source": [
        "from firebase import firebase\n",
        "firebase = firebase.FirebaseApplication('https://temp-d26a8-default-rtdb.europe-west1.firebasedatabase.app/', None)\n",
        "index = firebase.get('/frequent_words',None)"
      ],
      "metadata": {
        "id": "V3I9WCboobf_"
      },
      "execution_count": 34,
      "outputs": []
    },
    {
      "cell_type": "code",
      "source": [
        "#query = input(\"Enter your search query: \")"
      ],
      "metadata": {
        "colab": {
          "base_uri": "https://localhost:8080/"
        },
        "id": "rWuWlav5ornR",
        "outputId": "b1ae356d-0d0c-4b0f-d4fb-47abdea13524"
      },
      "execution_count": 28,
      "outputs": [
        {
          "name": "stdout",
          "output_type": "stream",
          "text": [
            "Enter your search query: development management\n"
          ]
        }
      ]
    },
    {
      "cell_type": "code",
      "source": [
        "def find_most_relevant_link(query, index):\n",
        "\n",
        "    words = query.lower().split()\n",
        "    link_frequency = {}\n",
        "\n",
        "    for word in words:\n",
        "        word_data = index.get(word)\n",
        "        if word_data:\n",
        "            for link in word_data['links']:\n",
        "                if link in link_frequency:\n",
        "                    link_frequency[link] += 1\n",
        "                else:\n",
        "                    link_frequency[link] = 1\n",
        "\n",
        "    max_freq = max(link_frequency.values()) if link_frequency else 0\n",
        "    most_relevant_links = [link for link, freq in link_frequency.items() if freq == max_freq]\n",
        "\n",
        "    return most_relevant_links\n"
      ],
      "metadata": {
        "id": "aHsiloCTosIP"
      },
      "execution_count": 54,
      "outputs": []
    },
    {
      "cell_type": "code",
      "source": [
        "#most_relevant_links = find_most_relevant_link(query, index)\n",
        "#print(\"Most relevant link(s):\", most_relevant_links)"
      ],
      "metadata": {
        "id": "hLOLzCI5uEMC"
      },
      "execution_count": 33,
      "outputs": []
    },
    {
      "cell_type": "code",
      "source": [
        "import ipywidgets as widgets\n",
        "from IPython.display import display, clear_output\n",
        "\n",
        "# Define the style for the widgets\n",
        "style = {'description_width': 'initial'}\n",
        "layout = widgets.Layout(width='auto', height='40px')  # set width and height\n",
        "\n",
        "# Create a text input widget for the query\n",
        "query_input = widgets.Text(\n",
        "    value='',\n",
        "    placeholder='Type something',\n",
        "    description='Search Query:',\n",
        "    style=style,\n",
        "    layout=layout\n",
        ")\n",
        "\n",
        "# Create a button widget to perform the search\n",
        "search_button = widgets.Button(\n",
        "    description='Search',\n",
        "    button_style='success',  # 'success', 'info', 'warning', 'danger' or ''\n",
        "    layout=layout\n",
        ")\n",
        "\n",
        "# Create an output widget to display the search results\n",
        "output = widgets.Output()\n",
        "\n",
        "# Function to handle the search and display results\n",
        "def on_search_button_clicked(b):\n",
        "    query = query_input.value\n",
        "    most_relevant_links = find_most_relevant_link(query, index)\n",
        "\n",
        "    with output:\n",
        "        clear_output()  # Clear the previous results\n",
        "        if most_relevant_links:\n",
        "            for link in most_relevant_links:\n",
        "                #print(link)\n",
        "                display(widgets.HTML(value=f\"<a href='{link}' target='_blank' style='font-size:16px;'>{link}</a>\"))\n",
        "        else:\n",
        "            print(\"No relevant links found.\")\n",
        "\n",
        "# Bind the click event to the search button\n",
        "search_button.on_click(on_search_button_clicked)\n",
        "\n",
        "# Display the widgets\n",
        "display(widgets.VBox([query_input, search_button, output]))\n",
        "print(type(output))\n"
      ],
      "metadata": {
        "colab": {
          "base_uri": "https://localhost:8080/",
          "height": 122,
          "referenced_widgets": [
            "7efae36609a248f88535d416b5347ee9",
            "e20fd108c15344e1939bb61d64fb9a4b",
            "05622d8931204e21971635aa5d042334",
            "8be62349feb0433f98104044a59c02b8",
            "95668d7da46e4a65bbe92f7b4a220fc5",
            "5f8efb91924940a4b07e181cb68605cd",
            "73cb1a0b8c7c4801b5f2697c69ae7dad",
            "c957b9fb282c4f7cbe92d1637f00e6cb",
            "e5b91dd08dcc49439a0017c370685651"
          ]
        },
        "id": "ia5YRiX4yFSW",
        "outputId": "3c9844e3-c1ec-471b-f20b-03d74803c8db"
      },
      "execution_count": 64,
      "outputs": [
        {
          "output_type": "display_data",
          "data": {
            "text/plain": [
              "VBox(children=(Text(value='', description='Search Query:', layout=Layout(height='40px', width='auto'), placeho…"
            ],
            "application/vnd.jupyter.widget-view+json": {
              "version_major": 2,
              "version_minor": 0,
              "model_id": "7efae36609a248f88535d416b5347ee9"
            }
          },
          "metadata": {}
        },
        {
          "output_type": "stream",
          "name": "stdout",
          "text": [
            "<class 'ipywidgets.widgets.widget_output.Output'>\n"
          ]
        }
      ]
    }
  ]
}