{
  "nbformat": 4,
  "nbformat_minor": 0,
  "metadata": {
    "colab": {
      "provenance": [],
      "authorship_tag": "ABX9TyMJOnQPrhWo/H8a5pFz2mTP",
      "include_colab_link": true
    },
    "kernelspec": {
      "name": "python3",
      "display_name": "Python 3"
    },
    "language_info": {
      "name": "python"
    }
  },
  "cells": [
    {
      "cell_type": "markdown",
      "metadata": {
        "id": "view-in-github",
        "colab_type": "text"
      },
      "source": [
        "<a href=\"https://colab.research.google.com/github/liorZucker11/cloud-computing/blob/main/Tut3.ipynb\" target=\"_parent\"><img src=\"https://colab.research.google.com/assets/colab-badge.svg\" alt=\"Open In Colab\"/></a>"
      ]
    },
    {
      "cell_type": "code",
      "execution_count": 80,
      "metadata": {
        "colab": {
          "base_uri": "https://localhost:8080/"
        },
        "id": "MO7A8kbgV6Mz",
        "outputId": "c0ac8a8a-9e04-4320-93bd-44f05f66573d"
      },
      "outputs": [
        {
          "output_type": "stream",
          "name": "stdout",
          "text": [
            "Drive already mounted at /content/drive/; to attempt to forcibly remount, call drive.mount(\"/content/drive/\", force_remount=True).\n"
          ]
        }
      ],
      "source": [
        "from google.colab import drive\n",
        "drive.mount('/content/drive/')"
      ]
    },
    {
      "cell_type": "code",
      "source": [
        "import os , json ,ipywidgets as widgets\n",
        "drive_path = '/content/drive/MyDrive/cloudTut/'\n",
        "os.chdir(drive_path)"
      ],
      "metadata": {
        "id": "0jEOjqu3WSR2"
      },
      "execution_count": 81,
      "outputs": []
    },
    {
      "cell_type": "code",
      "source": [
        "with open(\"questions.json\",\"r\") as file:\n",
        "    content=json.load(file)"
      ],
      "metadata": {
        "id": "KXDpBk25WT7B"
      },
      "execution_count": 94,
      "outputs": []
    },
    {
      "cell_type": "code",
      "source": [
        "import json\n",
        "import ipywidgets as widgets\n",
        "from IPython.display import display, clear_output\n",
        "import random\n",
        "\n",
        "# Parse the JSON\n",
        "questions = json.loads(content)['questions']\n",
        "\n",
        "# This will hold the user's answers\n",
        "user_answers = []\n",
        "\n",
        "# Function to display questions and capture answers\n",
        "def display_question(question_dict, question_index):\n",
        "    question = question_dict['question']\n",
        "    answers = question_dict['answers']\n",
        "    correct = question_dict['correct']\n",
        "\n",
        "    # Randomize answers\n",
        "    random.shuffle(answers)\n",
        "\n",
        "    # Create the radio buttons for the answers\n",
        "    radio_buttons = widgets.RadioButtons(\n",
        "        options=answers,\n",
        "        description='',\n",
        "        disabled=False\n",
        "    )\n",
        "\n",
        "    # Button to submit answer\n",
        "    submit_button = widgets.Button(description=\"Submit\")\n",
        "\n",
        "    # Display the question and answers\n",
        "    print(question)\n",
        "    display(radio_buttons, submit_button)\n",
        "\n",
        "    def on_submit_button_clicked(b):\n",
        "        # Store user answer\n",
        "        user_answers.append((question_index, radio_buttons.value == correct))\n",
        "\n",
        "        # Clear output and move to next question or calculate score\n",
        "        clear_output()\n",
        "        next_question_index = question_index + 1\n",
        "        if next_question_index < len(questions):\n",
        "            display_question(questions[next_question_index], next_question_index)\n",
        "        else:\n",
        "            # Calculate and display score\n",
        "            score = sum(1 for _, is_correct in user_answers if is_correct) * 20\n",
        "            print(f\"Your score is: {score}/100\")\n",
        "\n",
        "    submit_button.on_click(on_submit_button_clicked)\n",
        "\n",
        "# Display first question\n",
        "display_question(questions[0], 0)"
      ],
      "metadata": {
        "colab": {
          "base_uri": "https://localhost:8080/",
          "height": 140
        },
        "id": "4CFhHXeOW6FQ",
        "outputId": "66815b8c-2bf6-432c-fea7-db0f0cba02ce"
      },
      "execution_count": 95,
      "outputs": [
        {
          "output_type": "error",
          "ename": "SyntaxError",
          "evalue": "invalid non-printable character U+00A0 (<ipython-input-95-27d52e6dec95>, line 52)",
          "traceback": [
            "\u001b[0;36m  File \u001b[0;32m\"<ipython-input-95-27d52e6dec95>\"\u001b[0;36m, line \u001b[0;32m52\u001b[0m\n\u001b[0;31m    display_question(questions[0], 0)\u001b[0m\n\u001b[0m                                  ^\u001b[0m\n\u001b[0;31mSyntaxError\u001b[0m\u001b[0;31m:\u001b[0m invalid non-printable character U+00A0\n"
          ]
        }
      ]
    }
  ]
}