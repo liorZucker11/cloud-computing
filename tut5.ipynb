{
  "nbformat": 4,
  "nbformat_minor": 0,
  "metadata": {
    "colab": {
      "provenance": [],
      "authorship_tag": "ABX9TyNM/3/Of/iXVFH3ngXkBWt0",
      "include_colab_link": true
    },
    "kernelspec": {
      "name": "python3",
      "display_name": "Python 3"
    },
    "language_info": {
      "name": "python"
    }
  },
  "cells": [
    {
      "cell_type": "markdown",
      "metadata": {
        "id": "view-in-github",
        "colab_type": "text"
      },
      "source": [
        "<a href=\"https://colab.research.google.com/github/liorZucker11/cloud-computing/blob/main/tut5.ipynb\" target=\"_parent\"><img src=\"https://colab.research.google.com/assets/colab-badge.svg\" alt=\"Open In Colab\"/></a>"
      ]
    },
    {
      "cell_type": "code",
      "execution_count": 16,
      "metadata": {
        "colab": {
          "base_uri": "https://localhost:8080/"
        },
        "id": "z0u2DbOGWlFr",
        "outputId": "07a79a9b-ae53-4545-bea3-c7b6fd49655c"
      },
      "outputs": [
        {
          "output_type": "stream",
          "name": "stdout",
          "text": [
            "Requirement already satisfied: firebase in /usr/local/lib/python3.10/dist-packages (4.0.1)\n",
            "Requirement already satisfied: requests in /usr/local/lib/python3.10/dist-packages (from firebase) (2.31.0)\n",
            "Requirement already satisfied: charset-normalizer<4,>=2 in /usr/local/lib/python3.10/dist-packages (from requests->firebase) (3.3.2)\n",
            "Requirement already satisfied: idna<4,>=2.5 in /usr/local/lib/python3.10/dist-packages (from requests->firebase) (3.6)\n",
            "Requirement already satisfied: urllib3<3,>=1.21.1 in /usr/local/lib/python3.10/dist-packages (from requests->firebase) (2.0.7)\n",
            "Requirement already satisfied: certifi>=2017.4.17 in /usr/local/lib/python3.10/dist-packages (from requests->firebase) (2024.2.2)\n"
          ]
        }
      ],
      "source": [
        "!pip install firebase"
      ]
    },
    {
      "cell_type": "code",
      "source": [
        "from google.colab import drive\n",
        "drive.mount('/content/drive/')"
      ],
      "metadata": {
        "colab": {
          "base_uri": "https://localhost:8080/"
        },
        "id": "UJ9Mvlxhc5Bz",
        "outputId": "bd7fc210-4404-4e44-ed57-859dea032097"
      },
      "execution_count": 17,
      "outputs": [
        {
          "output_type": "stream",
          "name": "stdout",
          "text": [
            "Drive already mounted at /content/drive/; to attempt to forcibly remount, call drive.mount(\"/content/drive/\", force_remount=True).\n"
          ]
        }
      ]
    },
    {
      "cell_type": "code",
      "source": [
        "import os , json ,ipywidgets as widgets\n",
        "\n",
        "with open(\"/content/drive/MyDrive/students_tut5.json\",\"r\") as file:\n",
        "    content=json.load(file)"
      ],
      "metadata": {
        "id": "hrh_kLUcc5TS"
      },
      "execution_count": 18,
      "outputs": []
    },
    {
      "cell_type": "code",
      "source": [
        "from firebase import firebase\n",
        "\n",
        "firebase = firebase.FirebaseApplication('https://cloudcourse-d512e-default-rtdb.europe-west1.firebasedatabase.app/', None)\n",
        "\n",
        "for data in content[\"students\"]:\n",
        "  data_to_upload = {\n",
        "      'first name' : data[\"first name\"],\n",
        "      'last name' : data[\"last name\"],\n",
        "      'email' : data[\"email\"],\n",
        "      'courses' : data[\"courses\"],\n",
        "      'series' : data[\"series\"]\n",
        "  }\n",
        "  result = firebase.post('/Students/',data_to_upload)\n",
        "\n",
        "students = firebase.get('/Students',None)\n",
        "print (students)\n"
      ],
      "metadata": {
        "id": "Nfjbb88FYlGO",
        "colab": {
          "base_uri": "https://localhost:8080/"
        },
        "outputId": "b5b361a7-7fc7-4d73-e19e-a620b7ec8409"
      },
      "execution_count": 19,
      "outputs": [
        {
          "output_type": "stream",
          "name": "stdout",
          "text": [
            "{'-NqM_2IJi9kQmJmTC-Eu': {'courses': ['cloud', 'physics', 'web', 'AI', 'Data_Mining'], 'email': 'Yoni.Azeraf@e.braude.ac.il', 'first name': 'Yoni', 'last name': 'Azeraf', 'series': 'sons of anarchy'}, '-NqM_2JhuB-FXRAUQ-I3': {'courses': ['cloud', 'physics', 'web', 'AI', 'Data_Mining'], 'email': 'Lior.Zucker@e.braude.ac.il', 'first name': 'Lior', 'last name': 'Zucker', 'series': 'grays anatomy'}, '-NqM_2L7gCiOW3Nyydo_': {'courses': ['cloud', 'physics', 'web', 'AI', 'Data_Mining'], 'email': 'Mor.Shmuel@e.braude.ac.il', 'first name': 'Mor', 'last name': 'Shmuel', 'series': 'friends'}, '-NqM_2MU4JPMIod9MVZM': {'courses': ['cloud', 'physics', 'web', 'AI', 'Data_Mining'], 'email': 'dor.david.shabat@e.braude.ac.il', 'first name': 'Dor', 'last name': 'Shabat', 'series': 'peaky blinders'}, '-NqM_2OLDr6iUF1Dj1hO': {'courses': ['cloud', 'physics', 'web', 'AI', 'Data_Mining'], 'email': 'Yuval.Rozner@e.braude.ac.il', 'first name': 'Yuval', 'last name': 'Ronzer', 'series': 'the good doctor'}}\n"
          ]
        }
      ]
    },
    {
      "cell_type": "code",
      "source": [],
      "metadata": {
        "id": "5dL9eeK4jheD"
      },
      "execution_count": 19,
      "outputs": []
    }
  ]
}