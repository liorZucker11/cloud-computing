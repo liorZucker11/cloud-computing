{
  "nbformat": 4,
  "nbformat_minor": 0,
  "metadata": {
    "colab": {
      "provenance": [],
      "authorship_tag": "ABX9TyNM/3/Of/iXVFH3ngXkBWt0",
      "include_colab_link": true
    },
    "kernelspec": {
      "name": "python3",
      "display_name": "Python 3"
    },
    "language_info": {
      "name": "python"
    }
  },
  "cells": [
    {
      "cell_type": "markdown",
      "metadata": {
        "id": "view-in-github",
        "colab_type": "text"
      },
      "source": [
        "<a href=\"https://colab.research.google.com/github/liorZucker11/cloud-computing/blob/main/tut5.ipynb\" target=\"_parent\"><img src=\"https://colab.research.google.com/assets/colab-badge.svg\" alt=\"Open In Colab\"/></a>"
      ]
    },
    {
      "cell_type": "code",
      "execution_count": 9,
      "metadata": {
        "colab": {
          "base_uri": "https://localhost:8080/"
        },
        "id": "z0u2DbOGWlFr",
        "outputId": "b49a5781-66e0-45de-913a-4a25f0bf4436"
      },
      "outputs": [
        {
          "output_type": "stream",
          "name": "stdout",
          "text": [
            "Requirement already satisfied: firebase in /usr/local/lib/python3.10/dist-packages (4.0.1)\n",
            "Requirement already satisfied: requests in /usr/local/lib/python3.10/dist-packages (from firebase) (2.31.0)\n",
            "Requirement already satisfied: charset-normalizer<4,>=2 in /usr/local/lib/python3.10/dist-packages (from requests->firebase) (3.3.2)\n",
            "Requirement already satisfied: idna<4,>=2.5 in /usr/local/lib/python3.10/dist-packages (from requests->firebase) (3.6)\n",
            "Requirement already satisfied: urllib3<3,>=1.21.1 in /usr/local/lib/python3.10/dist-packages (from requests->firebase) (2.0.7)\n",
            "Requirement already satisfied: certifi>=2017.4.17 in /usr/local/lib/python3.10/dist-packages (from requests->firebase) (2024.2.2)\n"
          ]
        }
      ],
      "source": [
        "!pip install firebase"
      ]
    },
    {
      "cell_type": "code",
      "source": [
        "from google.colab import drive\n",
        "drive.mount('/content/drive/')"
      ],
      "metadata": {
        "colab": {
          "base_uri": "https://localhost:8080/"
        },
        "id": "UJ9Mvlxhc5Bz",
        "outputId": "922cf0ce-1ea2-47ea-fac0-29e2dca28678"
      },
      "execution_count": 10,
      "outputs": [
        {
          "output_type": "stream",
          "name": "stdout",
          "text": [
            "Drive already mounted at /content/drive/; to attempt to forcibly remount, call drive.mount(\"/content/drive/\", force_remount=True).\n"
          ]
        }
      ]
    },
    {
      "cell_type": "code",
      "source": [
        "import os , json ,ipywidgets as widgets\n",
        "\n",
        "with open(\"/content/drive/MyDrive/students_tut5.json\",\"r\") as file:\n",
        "    content=json.load(file)"
      ],
      "metadata": {
        "id": "hrh_kLUcc5TS"
      },
      "execution_count": 11,
      "outputs": []
    },
    {
      "cell_type": "code",
      "source": [
        "from firebase import firebase\n",
        "\n",
        "firebase = firebase.FirebaseApplication('https://cloudcourse-d512e-default-rtdb.europe-west1.firebasedatabase.app/', None)\n",
        "\n",
        "for data in content[\"students\"]:\n",
        "  data_to_upload = {\n",
        "      'first name' : data[\"first name\"],\n",
        "      'last name' : data[\"last name\"],\n",
        "      'email' : data[\"email\"],\n",
        "      'courses' : data[\"courses\"],\n",
        "      'series' : data[\"series\"]\n",
        "  }\n",
        "  result = firebase.post('/Students/',data_to_upload)\n",
        "\n",
        "students = firebase.get('/Students',None)\n",
        "print (students)\n"
      ],
      "metadata": {
        "id": "Nfjbb88FYlGO",
        "colab": {
          "base_uri": "https://localhost:8080/"
        },
        "outputId": "3473c000-cc5e-472e-881d-0e7f77d00095"
      },
      "execution_count": 14,
      "outputs": [
        {
          "output_type": "stream",
          "name": "stdout",
          "text": [
            "{'-NqMYacIMHxGmZnLCZMP': {'courses': ['cloud', 'physics', 'web', 'AI', 'Data_Mining'], 'email': 'Yoni.Azeraf@e.braude.ac.il', 'first name': 'Yoni', 'last name': 'Azeraf', 'series': 'sons of anarchy'}, '-NqMYaeTfpqSRhumeth_': {'courses': ['cloud', 'physics', 'web', 'AI', 'Data_Mining'], 'email': 'Lior.Zucker@e.braude.ac.il', 'first name': 'Lior', 'last name': 'Zucker', 'series': 'grays anatomy'}, '-NqMYagMMHu9eJHArXsE': {'courses': ['cloud', 'physics', 'web', 'AI', 'Data_Mining'], 'email': 'Mor.Shmuel@e.braude.ac.il', 'first name': 'Mor', 'last name': 'Shmuel', 'series': 'friends'}, '-NqMYaiSBoQCtNpLwcXI': {'courses': ['cloud', 'physics', 'web', 'AI', 'Data_Mining'], 'email': 'dor.david.shabat@e.braude.ac.il', 'first name': 'Dor', 'last name': 'Shabat', 'series': 'peaky blinders'}, '-NqMYakX3Ub4vJAZvqML': {'courses': ['cloud', 'physics', 'web', 'AI', 'Data_Mining'], 'email': 'Yuval.Rozner@e.braude.ac.il', 'first name': 'Yuval', 'last name': 'Ronzer', 'series': 'the good doctor'}, '-NqMZ3qzy2fNldwYcmYZ': {'courses': ['cloud', 'physics', 'web', 'AI', 'Data_Mining'], 'email': 'Yoni.Azeraf@e.braude.ac.il', 'first name': 'Yoni', 'last name': 'Azeraf', 'series': 'sons of anarchy'}, '-NqMZ3sOjtwdz0eouQAP': {'courses': ['cloud', 'physics', 'web', 'AI', 'Data_Mining'], 'email': 'Lior.Zucker@e.braude.ac.il', 'first name': 'Lior', 'last name': 'Zucker', 'series': 'grays anatomy'}, '-NqMZ3tkNGhPj_YNudDM': {'courses': ['cloud', 'physics', 'web', 'AI', 'Data_Mining'], 'email': 'Mor.Shmuel@e.braude.ac.il', 'first name': 'Mor', 'last name': 'Shmuel', 'series': 'friends'}, '-NqMZ3vC9b1K9p5Idp5E': {'courses': ['cloud', 'physics', 'web', 'AI', 'Data_Mining'], 'email': 'dor.david.shabat@e.braude.ac.il', 'first name': 'Dor', 'last name': 'Shabat', 'series': 'peaky blinders'}, '-NqMZ3wbVgNLKug2f78o': {'courses': ['cloud', 'physics', 'web', 'AI', 'Data_Mining'], 'email': 'Yuval.Rozner@e.braude.ac.il', 'first name': 'Yuval', 'last name': 'Ronzer', 'series': 'the good doctor'}, '-NqMZ8KhO7kidJXMuEpe': {'courses': ['cloud', 'physics', 'web', 'AI', 'Data_Mining'], 'email': 'Yoni.Azeraf@e.braude.ac.il', 'first name': 'Yoni', 'last name': 'Azeraf', 'series': 'sons of anarchy'}, '-NqMZ8MbClAHNRaW8h3O': {'courses': ['cloud', 'physics', 'web', 'AI', 'Data_Mining'], 'email': 'Lior.Zucker@e.braude.ac.il', 'first name': 'Lior', 'last name': 'Zucker', 'series': 'grays anatomy'}, '-NqMZ8Oauw1B428sTwQb': {'courses': ['cloud', 'physics', 'web', 'AI', 'Data_Mining'], 'email': 'Mor.Shmuel@e.braude.ac.il', 'first name': 'Mor', 'last name': 'Shmuel', 'series': 'friends'}, '-NqMZ8Q_62zVNtA4xVHT': {'courses': ['cloud', 'physics', 'web', 'AI', 'Data_Mining'], 'email': 'dor.david.shabat@e.braude.ac.il', 'first name': 'Dor', 'last name': 'Shabat', 'series': 'peaky blinders'}, '-NqMZ8SXL8AdSXX1MWHS': {'courses': ['cloud', 'physics', 'web', 'AI', 'Data_Mining'], 'email': 'Yuval.Rozner@e.braude.ac.il', 'first name': 'Yuval', 'last name': 'Ronzer', 'series': 'the good doctor'}}\n"
          ]
        }
      ]
    },
    {
      "cell_type": "code",
      "source": [],
      "metadata": {
        "id": "5dL9eeK4jheD"
      },
      "execution_count": 12,
      "outputs": []
    }
  ]
}